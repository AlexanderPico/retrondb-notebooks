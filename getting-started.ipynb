{
 "cells": [
  {
   "cell_type": "markdown",
   "id": "f61fdcf9",
   "metadata": {},
   "source": [
    "# Gettting Started"
   ]
  },
  {
   "cell_type": "markdown",
   "id": "a5d65047",
   "metadata": {},
   "source": [
    "## INTRODUCTION\n",
    "Welcome to your first Python notebook for the Retron Database. This notebook will help you establish a connection to the database and teach you how to perform basic transactions."
   ]
  },
  {
   "cell_type": "markdown",
   "id": "525bd614",
   "metadata": {},
   "source": [
    "### Basic installation\n",
    "If you haven't already, install the following pacakges, restart the kernel (Kernel > Restart), and proceed to subsequent section."
   ]
  },
  {
   "cell_type": "code",
   "execution_count": null,
   "id": "cc30cdc3",
   "metadata": {},
   "outputs": [],
   "source": [
    "!pip install pymongo\n",
    "!pip install dnspython\n",
    "!pip install python-dotenv"
   ]
  },
  {
   "cell_type": "markdown",
   "id": "d124594a",
   "metadata": {},
   "source": [
    "### Connecting to the database\n",
    "A username and password is required in order to access the database. These should be provided by a team member as either a .env file you can place in the same folder as this notebook, or as secret values that you can manually enter when prompted."
   ]
  },
  {
   "cell_type": "code",
   "execution_count": 1,
   "id": "8e01ee1a",
   "metadata": {},
   "outputs": [
    {
     "name": "stdout",
     "output_type": "stream",
     "text": [
      "\n",
      "\u001b[92m Success\u001b[00m: Connected to sandbox\n",
      "\n",
      "Collection(Database(MongoClient(host=['ac-rzezkqt-shard-00-00.uuutrha.mongodb.net:27017', 'ac-rzezkqt-shard-00-01.uuutrha.mongodb.net:27017', 'ac-rzezkqt-shard-00-02.uuutrha.mongodb.net:27017'], document_class=dict, tz_aware=False, connect=True, retrywrites=True, w='majority', authsource='admin', replicaset='atlas-7dwmtw-shard-0', tls=True), 'sandbox'), 'retrons')\n"
     ]
    }
   ],
   "source": [
    "import retrondb as rdb\n",
    "db_retrons = rdb.get_retronDB('sandbox')\n",
    "print(db_retrons)"
   ]
  },
  {
   "cell_type": "markdown",
   "id": "35ca460c",
   "metadata": {},
   "source": [
    "### Retrieving retrons from the database "
   ]
  },
  {
   "cell_type": "code",
   "execution_count": 4,
   "id": "b3e72ce6",
   "metadata": {},
   "outputs": [
    {
     "name": "stdout",
     "output_type": "stream",
     "text": [
      "{'_id': '0', 'ncrna': 'GTCTCCCAGTGCCCCACGGACCCATTATTCGACCGGCTAAACTCAGCCGGGTGCCGTGTTAAATCTCAACCCACCGACCATACCCATAGCCGTGGAATAAATCCCCCGAGTTGTAACTTAGCAGGCCGTGGACTAAAAAGCCCGCCTTGTGGTCCTAAGCAAAGAGT', 'ensemblPrediction': '((((((((.........((((((((((......)))).)))))).(((.((((...)))).)))..(((((....))))).......((((((((((((((((((((((.((((((((.....)))))))).)))))))))))))))))))))).....))))))))', 'rtdnaProduction': 94, 'bacterialEditing': 93, 'mamalianEditingGroup': '4'}\n"
     ]
    }
   ],
   "source": [
    "retron_details = db_retrons.find()\n",
    "for retron in retron_details:\n",
    "    print(retron)"
   ]
  },
  {
   "cell_type": "markdown",
   "id": "3ec8aee5",
   "metadata": {},
   "source": [
    "### Add a new retron to the database"
   ]
  },
  {
   "cell_type": "code",
   "execution_count": 3,
   "id": "51390483",
   "metadata": {},
   "outputs": [
    {
     "data": {
      "text/plain": [
       "<pymongo.results.InsertOneResult at 0x7ff040352df0>"
      ]
     },
     "execution_count": 3,
     "metadata": {},
     "output_type": "execute_result"
    }
   ],
   "source": [
    "retron0 = {\n",
    "        \"_id\":\"0\",\n",
    "        \"ncrna\":\"GTCTCCCAGTGCCCCACGGACCCATTATTCGACCGGCTAAACTCAGCCGGGTGCCGTGTTAAATCTCAACCCACCGACCATACCCATAGCCGTGGAATAAATCCCCCGAGTTGTAACTTAGCAGGCCGTGGACTAAAAAGCCCGCCTTGTGGTCCTAAGCAAAGAGT\",\n",
    "        \"ensemblPrediction\":\"((((((((.........((((((((((......)))).)))))).(((.((((...)))).)))..(((((....))))).......((((((((((((((((((((((.((((((((.....)))))))).)))))))))))))))))))))).....))))))))\",\n",
    "        \"rtdnaProduction\":94,\n",
    "        \"bacterialEditing\":93,\n",
    "        \"mamalianEditingGroup\":\"4\"\n",
    "        }\n",
    "\n",
    "# Add a single record to database\n",
    "db_retrons.insert_one(retron0)"
   ]
  },
  {
   "cell_type": "markdown",
   "id": "d7a7452d",
   "metadata": {},
   "source": [
    "### Query retrons by properties "
   ]
  },
  {
   "cell_type": "code",
   "execution_count": 5,
   "id": "45dcec1f",
   "metadata": {},
   "outputs": [
    {
     "name": "stdout",
     "output_type": "stream",
     "text": [
      "{'_id': '0', 'ncrna': 'GTCTCCCAGTGCCCCACGGACCCATTATTCGACCGGCTAAACTCAGCCGGGTGCCGTGTTAAATCTCAACCCACCGACCATACCCATAGCCGTGGAATAAATCCCCCGAGTTGTAACTTAGCAGGCCGTGGACTAAAAAGCCCGCCTTGTGGTCCTAAGCAAAGAGT', 'ensemblPrediction': '((((((((.........((((((((((......)))).)))))).(((.((((...)))).)))..(((((....))))).......((((((((((((((((((((((.((((((((.....)))))))).)))))))))))))))))))))).....))))))))', 'rtdnaProduction': 94, 'bacterialEditing': 93, 'mamalianEditingGroup': '4'}\n"
     ]
    }
   ],
   "source": [
    "query={'mamalianEditingGroup': '4'}\n",
    "cursor = db_retrons.find(query)\n",
    "for retron in cursor:\n",
    "    print(retron)"
   ]
  }
 ],
 "metadata": {
  "kernelspec": {
   "display_name": "Python 3 (ipykernel)",
   "language": "python",
   "name": "python3"
  },
  "language_info": {
   "codemirror_mode": {
    "name": "ipython",
    "version": 3
   },
   "file_extension": ".py",
   "mimetype": "text/x-python",
   "name": "python",
   "nbconvert_exporter": "python",
   "pygments_lexer": "ipython3",
   "version": "3.9.7"
  }
 },
 "nbformat": 4,
 "nbformat_minor": 5
}
