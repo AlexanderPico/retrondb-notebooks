{
 "cells": [
  {
   "cell_type": "markdown",
   "id": "095553ee",
   "metadata": {},
   "source": [
    "# Gettting Started"
   ]
  },
  {
   "cell_type": "markdown",
   "id": "42948b82",
   "metadata": {},
   "source": [
    "## INTRODUCTION\n",
    "Welcome to your first Python notebook for the Retron Database. This notebook will help you establish a connection to the database and teach you how to perform basic transactions."
   ]
  },
  {
   "cell_type": "markdown",
   "id": "d42671d8",
   "metadata": {},
   "source": [
    "### Basic installation\n",
    "If you haven't already, install the following pacakges, restart the kernel (Kernel > Restart), and proceed to subsequent section."
   ]
  },
  {
   "cell_type": "code",
   "execution_count": 12,
   "id": "e11c3367",
   "metadata": {},
   "outputs": [
    {
     "name": "stdout",
     "output_type": "stream",
     "text": [
      "Requirement already satisfied: pymongo in /Users/alexpico/opt/anaconda3/lib/python3.9/site-packages (4.2.0)\n",
      "Requirement already satisfied: dnspython in /Users/alexpico/opt/anaconda3/lib/python3.9/site-packages (2.2.1)\n",
      "Requirement already satisfied: pymongo[srv] in /Users/alexpico/opt/anaconda3/lib/python3.9/site-packages (4.2.0)\n",
      "Requirement already satisfied: dnspython<3.0.0,>=1.16.0 in /Users/alexpico/opt/anaconda3/lib/python3.9/site-packages (from pymongo[srv]) (2.2.1)\n",
      "Requirement already satisfied: python-dotenv in /Users/alexpico/opt/anaconda3/lib/python3.9/site-packages (0.20.0)\n"
     ]
    }
   ],
   "source": [
    "!pip install pymongo\n",
    "!pip install dnspython\n",
    "!pip install python-dotenv"
   ]
  },
  {
   "cell_type": "markdown",
   "id": "6a86d7cd",
   "metadata": {},
   "source": [
    "### Connecting to the database\n",
    "A username and password is required in order to access the database. These should be provided by a team member as either a .env file you can place in the same folder as this notebook, or as secret values that you can manually enter when prompted."
   ]
  },
  {
   "cell_type": "code",
   "execution_count": 19,
   "id": "a05a66ab",
   "metadata": {},
   "outputs": [],
   "source": [
    "from pymongo import MongoClient\n",
    "from dotenv import load_dotenv\n",
    "import os\n",
    "\n",
    "# Load config from a .env file\n",
    "load_dotenv(verbose=True)\n",
    "MONGODB_URI = os.environ['MONGODB_URI']\n",
    "# TODO: add check for var. If not, then prompt for manual entry\n",
    "\n",
    "# Connect to your MongoDB cluster\n",
    "client = MongoClient(MONGODB_URI)\n",
    "\n",
    "db = client['retronDB']\n",
    "db_retrons = db['retrons']\n",
    "\n",
    "# Note: with the retrondb module, this chuck is equivalent to db_retrons = get_retronDB()"
   ]
  },
  {
   "cell_type": "markdown",
   "id": "29985e2f",
   "metadata": {},
   "source": [
    "### Retrieving retrons from the database "
   ]
  },
  {
   "cell_type": "code",
   "execution_count": 26,
   "id": "eb66d50d",
   "metadata": {},
   "outputs": [
    {
     "name": "stdout",
     "output_type": "stream",
     "text": [
      "{'_id': '64', 'ncrna': 'GCTCTTTAGCGTTTTATGGATTTACCACCTGATTGGTCAAATCTAGTTGGGCGTTGCGCCAAACTCTAATTTATTGATTACATTTACAGTTGCGGAACAAACTTTTTGAGCCGCAATCCAGTAGGTTGCGGATCAAAAAGTTTGTTCCGCGGCTTCAAGTAAAGAGC', 'ensemblPrediction': '((((((((.........((((((((((......)))).)))))).(((.((((...)))).)))..(((((....))))).......((((((((((((((((((((((.((((((((.....)))))))).)))))))))))))))))))))).....))))))))', 'rtdnaSeqValues': [3e-05, 3e-05, 3e-05, 6e-05, 6e-05, 6e-05, 6e-05, 6e-05, 6e-05, 6e-05, 6e-05, 6e-05, 6e-05, 6e-05, 6e-05, 6e-05, 6e-05, 6e-05, 6e-05, 6e-05, 6e-05, 6e-05, 6e-05, 6e-05, 6e-05, 6e-05, 6e-05, 6e-05, 6e-05, 6e-05, 6e-05, 6e-05, 6e-05, 6e-05, 6e-05, 0.0001, 0.0001, 0.0001, 0.0001, 0.0001, 0.0001, 0.0001, 0.0001, 0.0001, 0.0001, 0.0001, 0.0001, 0.0001, 0.00013, 0.00013, 0.00013, 0.00016, 0.00016, 0.00016, 0.00016, 0.00019, 0.00019, 0.00019, 0.00022, 0.00022, 0.00022, 0.00022, 0.00022, 0.00025, 0.00025, 0.00032, 0.00044, 0.00054, 0.00852, 0.04035, 0.08481, 0.13267, 0.1822, 0.2324, 0.31842, 0.96437, 0.99509, 0.99519, 0.99547, 0.99781, 0.99794, 0.99794, 0.998, 0.998, 0.998, 0.99842, 0.99873, 0.99892, 0.99895, 0.99895, 0.99895, 0.99899, 0.99899, 0.99899, 0.99899, 0.99899, 0.99899, 0.99899, 0.99899, 0.99899, 0.99899, 0.99899, 0.99899, 0.99899, 0.99899, 0.99899, 0.99899, 0.99902, 0.99905, 0.99911, 0.99911, 0.99914, 0.99921, 0.99921, 0.99921, 0.99921, 0.99924, 0.9994, 0.9994, 0.9994, 0.99946, 0.99946, 0.99952, 0.99952, 0.99959, 0.99962, 0.99962, 0.99975, 0.99978, 0.99984, 0.99984, 0.99984, 0.99984, 0.99984, 0.99984, 0.99984, 0.99984, 0.99987, 0.99987, 0.99994, 0.99994, 0.99997, 0.99997, 0.99997, 0.99997, 0.99997, 0.99997, 0.99997, 0.99997, 0.99997, 0.99997, 0.99997, 0.99997, 0.99411, 0.00481, 0.00358, 0.00342, 0.00342, 0.00342, 0.00339, 0.00339, 0.00339, 0.00339, 0.00339, 0.0032, 0.00301, 0.00301], 'rtdnaProduction': 94, 'bacterialEditing': 93, 'mamalianEditingGroup': '4'}\n",
      "{'_id': '116', 'ncrna': 'ACTCTTTAGCGTTAGGCTTTGATTTATAGCCTTGTCGAGCGTTTCGCCAGACACTAACTTATTGAGTACTTTTAGGGTTGCGCTAGAAAGTTTTCTACCGATCCTAGAAGTCTCTAGGATCGGTAGAAAACTTTCTAGCGCCTCCTCTAGTAAAGAGT', 'ensemblPrediction': '((((((((.....(((((.........)))))((((..(((...)))..))))...((((...)))).....(((((..(((((((((((((((((((((((((((((....)))))))))))))))))))))))))))))..)).))).))))))))', 'rtdnaSeqValues': [0.04947541, 0.050365995, 0.051252061, 0.055244473, 0.055447209, 0.055584072, 0.056083939, 0.060011076, 0.061293575, 0.066451074, 0.068765541, 0.068779697, 0.06902963, 0.069774911, 0.070170746, 0.072127326, 0.072330062, 0.072584515, 0.072838968, 0.072961675, 0.076968841, 0.077897375, 0.078085955, 0.078477271, 0.078784038, 0.082183593, 0.082244947, 0.083810599, 0.085442333, 0.086111894, 0.087408549, 0.087422705, 0.087545412, 0.088960044, 0.0889742, 0.089403465, 0.092949845, 0.093025355, 0.093086708, 0.093148062, 0.093878977, 0.094143066, 0.094553058, 0.09476543, 0.096755051, 0.10050423, 0.100758683, 0.100744915, 0.101994551, 0.102654863, 0.103716129, 0.104942181, 0.106399492, 0.107432235, 0.108423108, 0.112899427, 0.118457513, 0.128626446, 0.137511926, 0.147194706, 0.16133944, 0.171904668, 0.212845559, 0.788013877, 0.85763321, 0.863434518, 0.863628005, 0.872717277, 0.873863867, 0.874109249, 0.874401829, 0.874812209, 0.875515168, 0.896233888, 0.906827636, 0.908747997, 0.911838677, 0.911900031, 0.912178276, 0.916207043, 0.916947804, 0.916947804, 0.91696196, 0.91696196, 0.917174332, 0.91766516, 0.917792386, 0.917929249, 0.918066112, 0.918971451, 0.913990314, 0.908308063, 0.904916424, 0.898379, 0.893862161, 0.832784966, 0.80458381, 0.804159484, 0.79478861, 0.789627964, 0.77427495, 0.773921405, 0.771545679, 0.765837706, 0.731965929, 0.59435147, 0.58492866, 0.568683028, 0.566683812, 0.568565751, 0.564636559, 0.561947995, 0.558445277, 0.557247778, 0.550864676, 0.536071793, 0.539968666, 0.536010627, 0.532262558, 0.531598114, 0.530551455, 0.525529958, 0.522123218, 0.519184868, 0.508125248, 0.511478182, 0.486062933, 0.484667458, 0.480342114, 0.478134385, 0.476734359, 0.46617752, 0.462424482, 0.456100522, 0.451493505, 0.445858055, 0.44136824, 0.440793073, 0.439015049, 0.43435512, 0.426104907, 0.422628709, 0.419379219, 0.415203775, 0.366477445, 0.061146437, 0.049140677, 0.03739772, 0.034040695, 0.033965186, 0.033111564, 0.025404127, 0.025003175, 0.024880468, 0.024880468, 0.023082961, 0.022856432, 0.022564031], 'rtdnaProduction': 56, 'bacterialEditing': 38, 'mamalianEditingGroup': '1'}\n"
     ]
    }
   ],
   "source": [
    "retron_details = db_retrons.find()\n",
    "for retron in retron_details:\n",
    "    print(retron)"
   ]
  },
  {
   "cell_type": "markdown",
   "id": "2401e4ee",
   "metadata": {},
   "source": [
    "### Add a new retron to the database"
   ]
  },
  {
   "cell_type": "code",
   "execution_count": 25,
   "id": "51390483",
   "metadata": {},
   "outputs": [
    {
     "data": {
      "text/plain": [
       "<pymongo.results.InsertOneResult at 0x7fed300c0730>"
      ]
     },
     "execution_count": 25,
     "metadata": {},
     "output_type": "execute_result"
    }
   ],
   "source": [
    "retron0 = {\n",
    "        \"_id\":\"0\",\n",
    "        \"ncrna\":\"GCTCTTTAGCGTTTTATGGATTTACCACCTGATTGGTCAAATCTAGTTGGGCGTTGCGCCAAACTCTAATTTATTGATTACATTTACAGTTGCGGAACAAACTTTTTGAGCCGCAATCCAGTAGGTTGCGGATCAAAAAGTTTGTTCCGCGGCTTCAAGTAAAGAGC\",\n",
    "        \"ensemblPrediction\":\"((((((((.........((((((((((......)))).)))))).(((.((((...)))).)))..(((((....))))).......((((((((((((((((((((((.((((((((.....)))))))).)))))))))))))))))))))).....))))))))\",\n",
    "        \"rtdnaSeqValues\":[0.00003,0.00003,0.00003,0.00006,0.00006,0.00006,0.00006,0.00006,0.00006,0.00006,0.00006,0.00006,0.00006,0.00006,0.00006,0.00006,0.00006,0.00006,0.00006,0.00006,0.00006,0.00006,0.00006,0.00006,0.00006,0.00006,0.00006,0.00006,0.00006,0.00006,0.00006,0.00006,0.00006,0.00006,0.00006,0.00010,0.00010,0.00010,0.00010,0.00010,0.00010,0.00010,0.00010,0.00010,0.00010,0.00010,0.00010,0.00010,0.00013,0.00013,0.00013,0.00016,0.00016,0.00016,0.00016,0.00019,0.00019,0.00019,0.00022,0.00022,0.00022,0.00022,0.00022,0.00025,0.00025,0.00032,0.00044,0.00054,0.00852,0.04035,0.08481,0.13267,0.18220,0.23240,0.31842,0.96437,0.99509,0.99519,0.99547,0.99781,0.99794,0.99794,0.99800,0.99800,0.99800,0.99842,0.99873,0.99892,0.99895,0.99895,0.99895,0.99899,0.99899,0.99899,0.99899,0.99899,0.99899,0.99899,0.99899,0.99899,0.99899,0.99899,0.99899,0.99899,0.99899,0.99899,0.99899,0.99902,0.99905,0.99911,0.99911,0.99914,0.99921,0.99921,0.99921,0.99921,0.99924,0.99940,0.99940,0.99940,0.99946,0.99946,0.99952,0.99952,0.99959,0.99962,0.99962,0.99975,0.99978,0.99984,0.99984,0.99984,0.99984,0.99984,0.99984,0.99984,0.99984,0.99987,0.99987,0.99994,0.99994,0.99997,0.99997,0.99997,0.99997,0.99997,0.99997,0.99997,0.99997,0.99997,0.99997,0.99997,0.99997,0.99411,0.00481,0.00358,0.00342,0.00342,0.00342,0.00339,0.00339,0.00339,0.00339,0.00339,0.00320,0.00301,0.00301],\n",
    "        \"rtdnaProduction\":94,\n",
    "        \"bacterialEditing\":93,\n",
    "        \"mamalianEditingGroup\":\"4\"\n",
    "        }\n",
    "\n",
    "# Add a single record to database\n",
    "db_retrons.insert_one(retron0)"
   ]
  },
  {
   "cell_type": "markdown",
   "id": "7cc07369",
   "metadata": {},
   "source": [
    "### Query retrons by properties "
   ]
  },
  {
   "cell_type": "code",
   "execution_count": 28,
   "id": "4d1bea4a",
   "metadata": {},
   "outputs": [
    {
     "name": "stdout",
     "output_type": "stream",
     "text": [
      "{'_id': '64', 'ncrna': 'GCTCTTTAGCGTTTTATGGATTTACCACCTGATTGGTCAAATCTAGTTGGGCGTTGCGCCAAACTCTAATTTATTGATTACATTTACAGTTGCGGAACAAACTTTTTGAGCCGCAATCCAGTAGGTTGCGGATCAAAAAGTTTGTTCCGCGGCTTCAAGTAAAGAGC', 'ensemblPrediction': '((((((((.........((((((((((......)))).)))))).(((.((((...)))).)))..(((((....))))).......((((((((((((((((((((((.((((((((.....)))))))).)))))))))))))))))))))).....))))))))', 'rtdnaSeqValues': [3e-05, 3e-05, 3e-05, 6e-05, 6e-05, 6e-05, 6e-05, 6e-05, 6e-05, 6e-05, 6e-05, 6e-05, 6e-05, 6e-05, 6e-05, 6e-05, 6e-05, 6e-05, 6e-05, 6e-05, 6e-05, 6e-05, 6e-05, 6e-05, 6e-05, 6e-05, 6e-05, 6e-05, 6e-05, 6e-05, 6e-05, 6e-05, 6e-05, 6e-05, 6e-05, 0.0001, 0.0001, 0.0001, 0.0001, 0.0001, 0.0001, 0.0001, 0.0001, 0.0001, 0.0001, 0.0001, 0.0001, 0.0001, 0.00013, 0.00013, 0.00013, 0.00016, 0.00016, 0.00016, 0.00016, 0.00019, 0.00019, 0.00019, 0.00022, 0.00022, 0.00022, 0.00022, 0.00022, 0.00025, 0.00025, 0.00032, 0.00044, 0.00054, 0.00852, 0.04035, 0.08481, 0.13267, 0.1822, 0.2324, 0.31842, 0.96437, 0.99509, 0.99519, 0.99547, 0.99781, 0.99794, 0.99794, 0.998, 0.998, 0.998, 0.99842, 0.99873, 0.99892, 0.99895, 0.99895, 0.99895, 0.99899, 0.99899, 0.99899, 0.99899, 0.99899, 0.99899, 0.99899, 0.99899, 0.99899, 0.99899, 0.99899, 0.99899, 0.99899, 0.99899, 0.99899, 0.99899, 0.99902, 0.99905, 0.99911, 0.99911, 0.99914, 0.99921, 0.99921, 0.99921, 0.99921, 0.99924, 0.9994, 0.9994, 0.9994, 0.99946, 0.99946, 0.99952, 0.99952, 0.99959, 0.99962, 0.99962, 0.99975, 0.99978, 0.99984, 0.99984, 0.99984, 0.99984, 0.99984, 0.99984, 0.99984, 0.99984, 0.99987, 0.99987, 0.99994, 0.99994, 0.99997, 0.99997, 0.99997, 0.99997, 0.99997, 0.99997, 0.99997, 0.99997, 0.99997, 0.99997, 0.99997, 0.99997, 0.99411, 0.00481, 0.00358, 0.00342, 0.00342, 0.00342, 0.00339, 0.00339, 0.00339, 0.00339, 0.00339, 0.0032, 0.00301, 0.00301], 'rtdnaProduction': 94, 'bacterialEditing': 93, 'mamalianEditingGroup': '4'}\n"
     ]
    }
   ],
   "source": [
    "query={'mamalianEditingGroup': '4'}\n",
    "cursor = db_retrons.find(query)\n",
    "for retron in cursor:\n",
    "    print(retron)"
   ]
  },
  {
   "cell_type": "code",
   "execution_count": null,
   "id": "08735794",
   "metadata": {},
   "outputs": [],
   "source": []
  }
 ],
 "metadata": {
  "kernelspec": {
   "display_name": "Python 3 (ipykernel)",
   "language": "python",
   "name": "python3"
  },
  "language_info": {
   "codemirror_mode": {
    "name": "ipython",
    "version": 3
   },
   "file_extension": ".py",
   "mimetype": "text/x-python",
   "name": "python",
   "nbconvert_exporter": "python",
   "pygments_lexer": "ipython3",
   "version": "3.9.7"
  }
 },
 "nbformat": 4,
 "nbformat_minor": 5
}
