{
 "cells": [
  {
   "cell_type": "markdown",
   "id": "5a8a16e4",
   "metadata": {
    "colab_type": "text",
    "id": "view-in-github"
   },
   "source": [
    "<a href=\"https://colab.research.google.com/github/AlexanderPico/retrondb-notebooks/blob/main/getting-started.ipynb\" target=\"_parent\"><img src=\"https://colab.research.google.com/assets/colab-badge.svg\" alt=\"Open In Colab\"/></a>"
   ]
  },
  {
   "cell_type": "markdown",
   "id": "bd8f6f17",
   "metadata": {},
   "source": [
    "# Getting Started"
   ]
  },
  {
   "cell_type": "markdown",
   "id": "a5d65047",
   "metadata": {},
   "source": [
    "## INTRODUCTION\n",
    "Welcome to your first Python notebook for the Retron Database. This notebook will help you establish a connection to the database and teach you how to perform basic transactions."
   ]
  },
  {
   "cell_type": "markdown",
   "id": "525bd614",
   "metadata": {},
   "source": [
    "### Basic installation\n",
    "If you haven't already, install the following pacakges, restart the kernel (Kernel > Restart), and proceed to subsequent section."
   ]
  },
  {
   "cell_type": "code",
   "execution_count": null,
   "id": "cc30cdc3",
   "metadata": {},
   "outputs": [],
   "source": [
    "!pip install pymongo\n",
    "!pip install dnspython\n",
    "!pip install python-dotenv"
   ]
  },
  {
   "cell_type": "markdown",
   "id": "d124594a",
   "metadata": {},
   "source": [
    "### Connecting to the database\n",
    "A username and password is required in order to access the database. These should be provided by a team member as either a .env file you can place in the same folder as this notebook, or as secret values that you can manually enter when prompted below.\n",
    "\n",
    "_Note: we are connecting to the \"sandbox\" database in this notebook, so you don't have to worry about messing up the real data :). In non-tutorial notebooks, the default parameter is used to connect to \"retronDB.\"_"
   ]
  },
  {
   "cell_type": "code",
   "execution_count": null,
   "id": "b65f684b",
   "metadata": {},
   "outputs": [],
   "source": [
    "import retrondb as rdb\n",
    "db_retrons = rdb.connect_retronDB('sandbox') #this database is for demos and tutorials; it is not the actual database\n",
    "print(db_retrons)"
   ]
  },
  {
   "cell_type": "markdown",
   "id": "35ca460c",
   "metadata": {},
   "source": [
    "### Retrieving retrons from the database "
   ]
  },
  {
   "cell_type": "code",
   "execution_count": null,
   "id": "d2d56e3d",
   "metadata": {},
   "outputs": [],
   "source": [
    "# Get all retrons in database as a Pandas DataFrame\n",
    "ret_all_df = rdb.get_all_retrons(db_retrons)\n",
    "ret_all_df.head()"
   ]
  },
  {
   "cell_type": "markdown",
   "id": "3ec8aee5",
   "metadata": {},
   "source": [
    "### Add a new retron to the database"
   ]
  },
  {
   "cell_type": "code",
   "execution_count": null,
   "id": "1227a274",
   "metadata": {},
   "outputs": [],
   "source": [
    "retron0 = {\n",
    "        \"node\":\"1\", \n",
    "        \"ncrna\":\"GTCTCCCAGTGCCCCACGGACCCATTATTCGACCGGCTAAACTCAGCCGGGTGCCGTGTTAAATCTCAACCCACCGACCATACCCATAGCCGTGGAATAAATCCCCCGAGTTGTAACTTAGCAGGCCGTGGACTAAAAAGCCCGCCTTGTGGTCCTAAGCAAAGAGT\",\n",
    "        \"ensemblPrediction\":\"((((((((.........((((((((((......)))).)))))).(((.((((...)))).)))..(((((....))))).......((((((((((((((((((((((.((((((((.....)))))))).)))))))))))))))))))))).....))))))))\",\n",
    "        \"rtdnaProduction\":94,\n",
    "        \"bacterialEditing\":93,\n",
    "        \"mamalianEditingGroup\":\"1\"\n",
    "        }\n",
    "rdb.add_retron(db_retrons, retron0)"
   ]
  },
  {
   "cell_type": "markdown",
   "id": "d7a7452d",
   "metadata": {},
   "source": [
    "### Query retrons by properties "
   ]
  },
  {
   "cell_type": "code",
   "execution_count": null,
   "id": "112929b3",
   "metadata": {},
   "outputs": [],
   "source": [
    "# Get a single retron by identifier as JSON, a dictionary or DataFrame\n",
    "ret_json=rdb.get_retron(db_retrons, \"1\",\"json\")\n",
    "ret_dict=rdb.get_retron(db_retrons, \"1\",\"dict\")\n",
    "ret_df=rdb.get_retron(db_retrons, \"1\",)\n",
    "print(\"JSON String: \")\n",
    "print(ret_json)\n",
    "print(\"\\nPython Dictionay: \")\n",
    "print(ret_dict)\n",
    "print(\"\\nPandas DataFrame: \")\n",
    "ret_df"
   ]
  },
  {
   "cell_type": "code",
   "execution_count": null,
   "id": "45dcec1f",
   "metadata": {},
   "outputs": [],
   "source": [
    "rdb.get_retrons_by(db_retrons,'mamalianEditingGroup', '2')"
   ]
  },
  {
   "cell_type": "code",
   "execution_count": null,
   "id": "871aec08",
   "metadata": {},
   "outputs": [],
   "source": [
    "\n",
    "rdb.get_retrons_by(db_retrons, \"bacterialEditing\", {\"$gt\":3})"
   ]
  }
 ],
 "metadata": {
  "celltoolbar": "Raw Cell Format",
  "kernelspec": {
   "display_name": "Python 3 (ipykernel)",
   "language": "python",
   "name": "python3"
  },
  "language_info": {
   "codemirror_mode": {
    "name": "ipython",
    "version": 3
   },
   "file_extension": ".py",
   "mimetype": "text/x-python",
   "name": "python",
   "nbconvert_exporter": "python",
   "pygments_lexer": "ipython3",
   "version": "3.9.7"
  }
 },
 "nbformat": 4,
 "nbformat_minor": 5
}
