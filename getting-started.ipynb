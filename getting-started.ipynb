{
 "cells": [
  {
   "cell_type": "markdown",
   "id": "f61fdcf9",
   "metadata": {},
   "source": [
    "# Gettting Started"
   ]
  },
  {
   "cell_type": "markdown",
   "id": "a5d65047",
   "metadata": {},
   "source": [
    "## INTRODUCTION\n",
    "Welcome to your first Python notebook for the Retron Database. This notebook will help you establish a connection to the database and teach you how to perform basic transactions."
   ]
  },
  {
   "cell_type": "markdown",
   "id": "525bd614",
   "metadata": {},
   "source": [
    "### Basic installation\n",
    "If you haven't already, install the following pacakges, restart the kernel (Kernel > Restart), and proceed to subsequent section."
   ]
  },
  {
   "cell_type": "code",
   "execution_count": null,
   "id": "cc30cdc3",
   "metadata": {},
   "outputs": [],
   "source": [
    "!pip install pymongo\n",
    "!pip install dnspython\n",
    "!pip install python-dotenv"
   ]
  },
  {
   "cell_type": "markdown",
   "id": "d124594a",
   "metadata": {},
   "source": [
    "### Connecting to the database\n",
    "A username and password is required in order to access the database. These should be provided by a team member as either a .env file you can place in the same folder as this notebook, or as secret values that you can manually enter when prompted."
   ]
  },
  {
   "cell_type": "code",
   "execution_count": 1,
   "id": "44a78cf5",
   "metadata": {},
   "outputs": [
    {
     "name": "stdout",
     "output_type": "stream",
     "text": [
      "\n",
      "\u001b[92m Success\u001b[00m: Connected to sandbox\n",
      "\n",
      "Collection(Database(MongoClient(host=['ac-rzezkqt-shard-00-00.uuutrha.mongodb.net:27017', 'ac-rzezkqt-shard-00-01.uuutrha.mongodb.net:27017', 'ac-rzezkqt-shard-00-02.uuutrha.mongodb.net:27017'], document_class=dict, tz_aware=False, connect=True, retrywrites=True, w='majority', authsource='admin', replicaset='atlas-7dwmtw-shard-0', tls=True), 'sandbox'), 'retrons')\n"
     ]
    }
   ],
   "source": [
    "import retrondb as rdb\n",
    "db_retrons = rdb.get_retronDB('sandbox')\n",
    "print(db_retrons)"
   ]
  },
  {
   "cell_type": "markdown",
   "id": "35ca460c",
   "metadata": {},
   "source": [
    "### Retrieving retrons from the database "
   ]
  },
  {
   "cell_type": "code",
   "execution_count": 2,
   "id": "b3e72ce6",
   "metadata": {},
   "outputs": [
    {
     "name": "stdout",
     "output_type": "stream",
     "text": [
      "{'_id': '0', 'ncrna': 'GCTCTTTAGCGTTTTATGGATTTACCACCTGATTGGTCAAATCTAGTTGGGCGTTGCGCCAAACTCTAATTTATTGATTACATTTACAGTTGCGGAACAAACTTTTTGAGCCGCAATCCAGTAGGTTGCGGATCAAAAAGTTTGTTCCGCGGCTTCAAGTAAAGAGC', 'ensemblPrediction': '((((((((.........((((((((((......)))).)))))).(((.((((...)))).)))..(((((....))))).......((((((((((((((((((((((.((((((((.....)))))))).)))))))))))))))))))))).....))))))))', 'rtdnaSeqValues': [3e-05, 3e-05, 3e-05, 6e-05, 6e-05, 6e-05, 6e-05, 6e-05, 6e-05, 6e-05, 6e-05, 6e-05, 6e-05, 6e-05, 6e-05, 6e-05, 6e-05, 6e-05, 6e-05, 6e-05, 6e-05, 6e-05, 6e-05, 6e-05, 6e-05, 6e-05, 6e-05, 6e-05, 6e-05, 6e-05, 6e-05, 6e-05, 6e-05, 6e-05, 6e-05, 0.0001, 0.0001, 0.0001, 0.0001, 0.0001, 0.0001, 0.0001, 0.0001, 0.0001, 0.0001, 0.0001, 0.0001, 0.0001, 0.00013, 0.00013, 0.00013, 0.00016, 0.00016, 0.00016, 0.00016, 0.00019, 0.00019, 0.00019, 0.00022, 0.00022, 0.00022, 0.00022, 0.00022, 0.00025, 0.00025, 0.00032, 0.00044, 0.00054, 0.00852, 0.04035, 0.08481, 0.13267, 0.1822, 0.2324, 0.31842, 0.96437, 0.99509, 0.99519, 0.99547, 0.99781, 0.99794, 0.99794, 0.998, 0.998, 0.998, 0.99842, 0.99873, 0.99892, 0.99895, 0.99895, 0.99895, 0.99899, 0.99899, 0.99899, 0.99899, 0.99899, 0.99899, 0.99899, 0.99899, 0.99899, 0.99899, 0.99899, 0.99899, 0.99899, 0.99899, 0.99899, 0.99899, 0.99902, 0.99905, 0.99911, 0.99911, 0.99914, 0.99921, 0.99921, 0.99921, 0.99921, 0.99924, 0.9994, 0.9994, 0.9994, 0.99946, 0.99946, 0.99952, 0.99952, 0.99959, 0.99962, 0.99962, 0.99975, 0.99978, 0.99984, 0.99984, 0.99984, 0.99984, 0.99984, 0.99984, 0.99984, 0.99984, 0.99987, 0.99987, 0.99994, 0.99994, 0.99997, 0.99997, 0.99997, 0.99997, 0.99997, 0.99997, 0.99997, 0.99997, 0.99997, 0.99997, 0.99997, 0.99997, 0.99411, 0.00481, 0.00358, 0.00342, 0.00342, 0.00342, 0.00339, 0.00339, 0.00339, 0.00339, 0.00339, 0.0032, 0.00301, 0.00301], 'rtdnaProduction': 94, 'bacterialEditing': 93, 'mamalianEditingGroup': '4'}\n"
     ]
    }
   ],
   "source": [
    "retron_details = db_retrons.find()\n",
    "for retron in retron_details:\n",
    "    print(retron)"
   ]
  },
  {
   "cell_type": "markdown",
   "id": "3ec8aee5",
   "metadata": {},
   "source": [
    "### Add a new retron to the database"
   ]
  },
  {
   "cell_type": "code",
   "execution_count": null,
   "id": "51390483",
   "metadata": {},
   "outputs": [],
   "source": [
    "retron0 = {\n",
    "        \"_id\":\"0\",\n",
    "        \"ncrna\":\"GTCTCCCAGTGCCCCACGGACCCATTATTCGACCGGCTAAACTCAGCCGGGTGCCGTGTTAAATCTCAACCCACCGACCATACCCATAGCCGTGGAATAAATCCCCCGAGTTGTAACTTAGCAGGCCGTGGACTAAAAAGCCCGCCTTGTGGTCCTAAGCAAAGAGT\",\n",
    "        \"ensemblPrediction\":\"((((((((.........((((((((((......)))).)))))).(((.((((...)))).)))..(((((....))))).......((((((((((((((((((((((.((((((((.....)))))))).)))))))))))))))))))))).....))))))))\",\n",
    "        \"rtdnaProduction\":94,\n",
    "        \"bacterialEditing\":93,\n",
    "        \"mamalianEditingGroup\":\"4\"\n",
    "        }\n",
    "\n",
    "# Add a single record to database\n",
    "db_retrons.insert_one(retron0)"
   ]
  },
  {
   "cell_type": "markdown",
   "id": "d7a7452d",
   "metadata": {},
   "source": [
    "### Query retrons by properties "
   ]
  },
  {
   "cell_type": "code",
   "execution_count": null,
   "id": "45dcec1f",
   "metadata": {},
   "outputs": [],
   "source": [
    "query={'mamalianEditingGroup': '4'}\n",
    "cursor = db_retrons.find(query)\n",
    "for retron in cursor:\n",
    "    print(retron)"
   ]
  },
  {
   "cell_type": "code",
   "execution_count": null,
   "id": "08735794",
   "metadata": {},
   "outputs": [],
   "source": []
  }
 ],
 "metadata": {
  "kernelspec": {
   "display_name": "Python 3 (ipykernel)",
   "language": "python",
   "name": "python3"
  },
  "language_info": {
   "codemirror_mode": {
    "name": "ipython",
    "version": 3
   },
   "file_extension": ".py",
   "mimetype": "text/x-python",
   "name": "python",
   "nbconvert_exporter": "python",
   "pygments_lexer": "ipython3",
   "version": "3.9.7"
  }
 },
 "nbformat": 4,
 "nbformat_minor": 5
}
