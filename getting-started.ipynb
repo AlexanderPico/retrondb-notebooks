{
 "cells": [
  {
   "cell_type": "markdown",
   "id": "5a8a16e4",
   "metadata": {
    "colab_type": "text",
    "id": "view-in-github"
   },
   "source": [
    "<a href=\"https://colab.research.google.com/github/AlexanderPico/retrondb-notebooks/blob/main/getting-started.ipynb\" target=\"_parent\"><img src=\"https://colab.research.google.com/assets/colab-badge.svg\" alt=\"Open In Colab\"/></a>"
   ]
  },
  {
   "cell_type": "markdown",
   "id": "bd8f6f17",
   "metadata": {},
   "source": [
    "# Getting Started"
   ]
  },
  {
   "cell_type": "markdown",
   "id": "a5d65047",
   "metadata": {},
   "source": [
    "## INTRODUCTION\n",
    "Welcome to your first Python notebook for the Retron Database. This notebook will help you establish a connection to the database and teach you how to perform basic transactions."
   ]
  },
  {
   "cell_type": "markdown",
   "id": "525bd614",
   "metadata": {},
   "source": [
    "### Basic installation\n",
    "If you haven't already, install the following pacakges, restart the kernel (Kernel > Restart), and proceed to subsequent section."
   ]
  },
  {
   "cell_type": "code",
   "execution_count": null,
   "id": "cc30cdc3",
   "metadata": {},
   "outputs": [],
   "source": [
    "!pip install pymongo\n",
    "!pip install dnspython\n",
    "!pip install python-dotenv"
   ]
  },
  {
   "cell_type": "markdown",
   "id": "d124594a",
   "metadata": {},
   "source": [
    "### Connecting to the database\n",
    "A username and password is required in order to access the database. These should be provided by a team member as either a .env file you can place in the same folder as this notebook, or as secret values that you can manually enter when prompted below.\n",
    "\n",
    "_Note: we are connecting to the \"sandbox\" database in this notebook, so you don't have to worry about messing up the real data :). In non-tutorial notebooks, the default parameter is used to connect to \"retronDB.\"_"
   ]
  },
  {
   "cell_type": "code",
   "execution_count": 1,
   "id": "b65f684b",
   "metadata": {},
   "outputs": [
    {
     "name": "stdout",
     "output_type": "stream",
     "text": [
      "\n",
      "\u001b[92m Success\u001b[00m: Connected to sandbox\n",
      "\n",
      "Collection(Database(MongoClient(host=['ac-rzezkqt-shard-00-01.uuutrha.mongodb.net:27017', 'ac-rzezkqt-shard-00-00.uuutrha.mongodb.net:27017', 'ac-rzezkqt-shard-00-02.uuutrha.mongodb.net:27017'], document_class=dict, tz_aware=False, connect=True, retrywrites=True, w='majority', authsource='admin', replicaset='atlas-7dwmtw-shard-0', tls=True), 'sandbox'), 'retrons')\n"
     ]
    }
   ],
   "source": [
    "import retrondb as rdb\n",
    "db_retrons = rdb.get_retronDB('sandbox') #this database is for demos and tutorials; it is not the actual database\n",
    "print(db_retrons)"
   ]
  },
  {
   "cell_type": "markdown",
   "id": "35ca460c",
   "metadata": {},
   "source": [
    "### Retrieving retrons from the database "
   ]
  },
  {
   "cell_type": "code",
   "execution_count": 24,
   "id": "d2d56e3d",
   "metadata": {},
   "outputs": [
    {
     "data": {
      "text/html": [
       "<div>\n",
       "<style scoped>\n",
       "    .dataframe tbody tr th:only-of-type {\n",
       "        vertical-align: middle;\n",
       "    }\n",
       "\n",
       "    .dataframe tbody tr th {\n",
       "        vertical-align: top;\n",
       "    }\n",
       "\n",
       "    .dataframe thead th {\n",
       "        text-align: right;\n",
       "    }\n",
       "</style>\n",
       "<table border=\"1\" class=\"dataframe\">\n",
       "  <thead>\n",
       "    <tr style=\"text-align: right;\">\n",
       "      <th></th>\n",
       "      <th>_id</th>\n",
       "      <th>ncrna</th>\n",
       "      <th>ensemblPrediction</th>\n",
       "      <th>rtdnaProduction</th>\n",
       "      <th>bacterialEditing</th>\n",
       "      <th>mamalianEditingGroup</th>\n",
       "    </tr>\n",
       "  </thead>\n",
       "  <tbody>\n",
       "    <tr>\n",
       "      <th>0</th>\n",
       "      <td>0</td>\n",
       "      <td>GTCTCCCAGTGCCCCACGGACCCATTATTCGACCGGCTAAACTCAG...</td>\n",
       "      <td>((((((((.........((((((((((......)))).)))))).(...</td>\n",
       "      <td>94</td>\n",
       "      <td>93</td>\n",
       "      <td>4</td>\n",
       "    </tr>\n",
       "  </tbody>\n",
       "</table>\n",
       "</div>"
      ],
      "text/plain": [
       "  _id                                              ncrna  \\\n",
       "0   0  GTCTCCCAGTGCCCCACGGACCCATTATTCGACCGGCTAAACTCAG...   \n",
       "\n",
       "                                   ensemblPrediction  rtdnaProduction  \\\n",
       "0  ((((((((.........((((((((((......)))).)))))).(...               94   \n",
       "\n",
       "   bacterialEditing mamalianEditingGroup  \n",
       "0                93                    4  "
      ]
     },
     "execution_count": 24,
     "metadata": {},
     "output_type": "execute_result"
    }
   ],
   "source": [
    "# Get all retrons in database as a Pandas DataFrame\n",
    "ret_all_df = rdb.get_all_retrons(db_retrons)\n",
    "ret_all_df.head()"
   ]
  },
  {
   "cell_type": "code",
   "execution_count": 21,
   "id": "d1bd8f72",
   "metadata": {},
   "outputs": [
    {
     "name": "stdout",
     "output_type": "stream",
     "text": [
      "JSON String: \n",
      "{\"_id\": \"0\", \"ncrna\": \"GTCTCCCAGTGCCCCACGGACCCATTATTCGACCGGCTAAACTCAGCCGGGTGCCGTGTTAAATCTCAACCCACCGACCATACCCATAGCCGTGGAATAAATCCCCCGAGTTGTAACTTAGCAGGCCGTGGACTAAAAAGCCCGCCTTGTGGTCCTAAGCAAAGAGT\", \"ensemblPrediction\": \"((((((((.........((((((((((......)))).)))))).(((.((((...)))).)))..(((((....))))).......((((((((((((((((((((((.((((((((.....)))))))).)))))))))))))))))))))).....))))))))\", \"rtdnaProduction\": 94, \"bacterialEditing\": 93, \"mamalianEditingGroup\": \"4\"}\n",
      "\n",
      "Python Dictionay: \n",
      "{'_id': '0', 'ncrna': 'GTCTCCCAGTGCCCCACGGACCCATTATTCGACCGGCTAAACTCAGCCGGGTGCCGTGTTAAATCTCAACCCACCGACCATACCCATAGCCGTGGAATAAATCCCCCGAGTTGTAACTTAGCAGGCCGTGGACTAAAAAGCCCGCCTTGTGGTCCTAAGCAAAGAGT', 'ensemblPrediction': '((((((((.........((((((((((......)))).)))))).(((.((((...)))).)))..(((((....))))).......((((((((((((((((((((((.((((((((.....)))))))).)))))))))))))))))))))).....))))))))', 'rtdnaProduction': 94, 'bacterialEditing': 93, 'mamalianEditingGroup': '4'}\n",
      "\n",
      "Pandas DataFrame: \n"
     ]
    },
    {
     "data": {
      "text/html": [
       "<div>\n",
       "<style scoped>\n",
       "    .dataframe tbody tr th:only-of-type {\n",
       "        vertical-align: middle;\n",
       "    }\n",
       "\n",
       "    .dataframe tbody tr th {\n",
       "        vertical-align: top;\n",
       "    }\n",
       "\n",
       "    .dataframe thead th {\n",
       "        text-align: right;\n",
       "    }\n",
       "</style>\n",
       "<table border=\"1\" class=\"dataframe\">\n",
       "  <thead>\n",
       "    <tr style=\"text-align: right;\">\n",
       "      <th></th>\n",
       "      <th>_id</th>\n",
       "      <th>ncrna</th>\n",
       "      <th>ensemblPrediction</th>\n",
       "      <th>rtdnaProduction</th>\n",
       "      <th>bacterialEditing</th>\n",
       "      <th>mamalianEditingGroup</th>\n",
       "    </tr>\n",
       "  </thead>\n",
       "  <tbody>\n",
       "    <tr>\n",
       "      <th>0</th>\n",
       "      <td>0</td>\n",
       "      <td>GTCTCCCAGTGCCCCACGGACCCATTATTCGACCGGCTAAACTCAG...</td>\n",
       "      <td>((((((((.........((((((((((......)))).)))))).(...</td>\n",
       "      <td>94</td>\n",
       "      <td>93</td>\n",
       "      <td>4</td>\n",
       "    </tr>\n",
       "  </tbody>\n",
       "</table>\n",
       "</div>"
      ],
      "text/plain": [
       "  _id                                              ncrna  \\\n",
       "0   0  GTCTCCCAGTGCCCCACGGACCCATTATTCGACCGGCTAAACTCAG...   \n",
       "\n",
       "                                   ensemblPrediction  rtdnaProduction  \\\n",
       "0  ((((((((.........((((((((((......)))).)))))).(...               94   \n",
       "\n",
       "   bacterialEditing mamalianEditingGroup  \n",
       "0                93                    4  "
      ]
     },
     "execution_count": 21,
     "metadata": {},
     "output_type": "execute_result"
    }
   ],
   "source": [
    "# Get a single retron by identifier as JSON, a dictionary or DataFrame\n",
    "ret_json=rdb.get_retron(db_retrons, \"0\",\"json\")\n",
    "ret_dict=rdb.get_retron(db_retrons, \"0\",\"dict\")\n",
    "ret_df=rdb.get_retron(db_retrons, \"0\",)\n",
    "print(\"JSON String: \")\n",
    "print(ret_json)\n",
    "print(\"\\nPython Dictionay: \")\n",
    "print(ret_dict)\n",
    "print(\"\\nPandas DataFrame: \")\n",
    "ret_df"
   ]
  },
  {
   "cell_type": "markdown",
   "id": "3ec8aee5",
   "metadata": {},
   "source": [
    "### Add a new retron to the database"
   ]
  },
  {
   "cell_type": "code",
   "execution_count": 3,
   "id": "51390483",
   "metadata": {},
   "outputs": [
    {
     "data": {
      "text/plain": [
       "<pymongo.results.InsertOneResult at 0x7ff040352df0>"
      ]
     },
     "execution_count": 3,
     "metadata": {},
     "output_type": "execute_result"
    }
   ],
   "source": [
    "retron0 = {\n",
    "        \"_id\":\"0\",\n",
    "        \"ncrna\":\"GTCTCCCAGTGCCCCACGGACCCATTATTCGACCGGCTAAACTCAGCCGGGTGCCGTGTTAAATCTCAACCCACCGACCATACCCATAGCCGTGGAATAAATCCCCCGAGTTGTAACTTAGCAGGCCGTGGACTAAAAAGCCCGCCTTGTGGTCCTAAGCAAAGAGT\",\n",
    "        \"ensemblPrediction\":\"((((((((.........((((((((((......)))).)))))).(((.((((...)))).)))..(((((....))))).......((((((((((((((((((((((.((((((((.....)))))))).)))))))))))))))))))))).....))))))))\",\n",
    "        \"rtdnaProduction\":94,\n",
    "        \"bacterialEditing\":93,\n",
    "        \"mamalianEditingGroup\":\"4\"\n",
    "        }\n",
    "\n",
    "# Add a single record to database\n",
    "db_retrons.insert_one(retron0)"
   ]
  },
  {
   "cell_type": "markdown",
   "id": "d7a7452d",
   "metadata": {},
   "source": [
    "### Query retrons by properties "
   ]
  },
  {
   "cell_type": "code",
   "execution_count": 5,
   "id": "45dcec1f",
   "metadata": {},
   "outputs": [
    {
     "name": "stdout",
     "output_type": "stream",
     "text": [
      "{'_id': '0', 'ncrna': 'GTCTCCCAGTGCCCCACGGACCCATTATTCGACCGGCTAAACTCAGCCGGGTGCCGTGTTAAATCTCAACCCACCGACCATACCCATAGCCGTGGAATAAATCCCCCGAGTTGTAACTTAGCAGGCCGTGGACTAAAAAGCCCGCCTTGTGGTCCTAAGCAAAGAGT', 'ensemblPrediction': '((((((((.........((((((((((......)))).)))))).(((.((((...)))).)))..(((((....))))).......((((((((((((((((((((((.((((((((.....)))))))).)))))))))))))))))))))).....))))))))', 'rtdnaProduction': 94, 'bacterialEditing': 93, 'mamalianEditingGroup': '4'}\n"
     ]
    }
   ],
   "source": [
    "query={'mamalianEditingGroup': '4'}\n",
    "cursor = db_retrons.find(query)\n",
    "for retron in cursor:\n",
    "    print(retron)"
   ]
  }
 ],
 "metadata": {
  "celltoolbar": "Raw Cell Format",
  "kernelspec": {
   "display_name": "Python 3 (ipykernel)",
   "language": "python",
   "name": "python3"
  },
  "language_info": {
   "codemirror_mode": {
    "name": "ipython",
    "version": 3
   },
   "file_extension": ".py",
   "mimetype": "text/x-python",
   "name": "python",
   "nbconvert_exporter": "python",
   "pygments_lexer": "ipython3",
   "version": "3.9.7"
  }
 },
 "nbformat": 4,
 "nbformat_minor": 5
}
