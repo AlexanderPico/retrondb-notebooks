{
 "cells": [
  {
   "cell_type": "markdown",
   "id": "23bc6f76",
   "metadata": {},
   "source": [
    "# Importing Retrons\n",
    "This is how to import new retron data from CSV files into the retron database. These operations are distinct from modifying data associated with existing retron records (see `updating-retrons.ipynb`). Please take note of the parameters that are set to protect database corruption and modify their default setting with caution."
   ]
  },
  {
   "cell_type": "markdown",
   "id": "1c01f7b0",
   "metadata": {},
   "source": [
    "### Connecting to the database\n",
    "If you are not sure how to do this, review `getting-started.ipynb`."
   ]
  },
  {
   "cell_type": "code",
   "execution_count": 1,
   "id": "ed4a2025",
   "metadata": {},
   "outputs": [
    {
     "name": "stdout",
     "output_type": "stream",
     "text": [
      "\n",
      "\u001b[92m Success\u001b[00m: Connected to sandbox with 100 retrons\n",
      "\n"
     ]
    }
   ],
   "source": [
    "import retrondb as rdb\n",
    "dbr = rdb.connect_retronDB('sandbox') #this database is for demos and tutorials; it is not the actual database"
   ]
  },
  {
   "cell_type": "markdown",
   "id": "a12f7856",
   "metadata": {},
   "source": [
    "### Add retrons to an existing database\n",
    "As long as the retron properties you are importing already exist in the database, then you can leave the `new_property` paramater set to `False` and protect against accepting typos and using unconventional property names."
   ]
  },
  {
   "cell_type": "code",
   "execution_count": 4,
   "id": "c8f37b83",
   "metadata": {},
   "outputs": [
    {
     "name": "stdout",
     "output_type": "stream",
     "text": [
      "Added retrons to the database.\n"
     ]
    },
    {
     "data": {
      "text/html": [
       "<div>\n",
       "<style scoped>\n",
       "    .dataframe tbody tr th:only-of-type {\n",
       "        vertical-align: middle;\n",
       "    }\n",
       "\n",
       "    .dataframe tbody tr th {\n",
       "        vertical-align: top;\n",
       "    }\n",
       "\n",
       "    .dataframe thead th {\n",
       "        text-align: right;\n",
       "    }\n",
       "</style>\n",
       "<table border=\"1\" class=\"dataframe\">\n",
       "  <thead>\n",
       "    <tr style=\"text-align: right;\">\n",
       "      <th></th>\n",
       "      <th>_id</th>\n",
       "      <th>node</th>\n",
       "      <th>ncRNA</th>\n",
       "      <th>ensemble prediction</th>\n",
       "      <th>RTDNA (sequencing values)</th>\n",
       "      <th>RT/Cladea</th>\n",
       "      <th>Retron (sub)b</th>\n",
       "      <th>msr/msd familiyc</th>\n",
       "      <th>RT-DNA production</th>\n",
       "      <th>Bacterial Editing</th>\n",
       "      <th>Mammalian Editing Group</th>\n",
       "    </tr>\n",
       "  </thead>\n",
       "  <tbody>\n",
       "    <tr>\n",
       "      <th>0</th>\n",
       "      <td>62f05acff6084038180cb732</td>\n",
       "      <td>3</td>\n",
       "      <td>TCCACAAAGATCGACGAAGCGCCTGGACCTGTAATAGTCGGTACCA...</td>\n",
       "      <td>(((((((((((((......(((((((((...)))))))))..(((....</td>\n",
       "      <td>0.002000257;0.002000257;0.002016815;0.00201681...</td>\n",
       "      <td>None</td>\n",
       "      <td>None</td>\n",
       "      <td>None</td>\n",
       "      <td>84</td>\n",
       "      <td>74</td>\n",
       "      <td>1</td>\n",
       "    </tr>\n",
       "    <tr>\n",
       "      <th>1</th>\n",
       "      <td>62f05acff6084038180cb733</td>\n",
       "      <td>4</td>\n",
       "      <td>AGGAGTGGCACGTGGCCAGTTACGCATTGAAAGCCATACCCTAAAA...</td>\n",
       "      <td>None</td>\n",
       "      <td>None</td>\n",
       "      <td>None</td>\n",
       "      <td>None</td>\n",
       "      <td>None</td>\n",
       "      <td>100</td>\n",
       "      <td>85</td>\n",
       "      <td>1</td>\n",
       "    </tr>\n",
       "    <tr>\n",
       "      <th>2</th>\n",
       "      <td>62f05acff6084038180cb734</td>\n",
       "      <td>5</td>\n",
       "      <td>GAACTCTCAAGTATTATCATCCCCGCTGCGACATCGTGGAGTAGGC...</td>\n",
       "      <td>None</td>\n",
       "      <td>None</td>\n",
       "      <td>None</td>\n",
       "      <td>None</td>\n",
       "      <td>None</td>\n",
       "      <td>49</td>\n",
       "      <td>34</td>\n",
       "      <td>4</td>\n",
       "    </tr>\n",
       "  </tbody>\n",
       "</table>\n",
       "</div>"
      ],
      "text/plain": [
       "                        _id node  \\\n",
       "0  62f05acff6084038180cb732    3   \n",
       "1  62f05acff6084038180cb733    4   \n",
       "2  62f05acff6084038180cb734    5   \n",
       "\n",
       "                                               ncRNA  \\\n",
       "0  TCCACAAAGATCGACGAAGCGCCTGGACCTGTAATAGTCGGTACCA...   \n",
       "1  AGGAGTGGCACGTGGCCAGTTACGCATTGAAAGCCATACCCTAAAA...   \n",
       "2  GAACTCTCAAGTATTATCATCCCCGCTGCGACATCGTGGAGTAGGC...   \n",
       "\n",
       "                                 ensemble prediction  \\\n",
       "0  (((((((((((((......(((((((((...)))))))))..(((....   \n",
       "1                                               None   \n",
       "2                                               None   \n",
       "\n",
       "                           RTDNA (sequencing values) RT/Cladea Retron (sub)b  \\\n",
       "0  0.002000257;0.002000257;0.002016815;0.00201681...      None          None   \n",
       "1                                               None      None          None   \n",
       "2                                               None      None          None   \n",
       "\n",
       "  msr/msd familiyc RT-DNA production Bacterial Editing Mammalian Editing Group  \n",
       "0             None                84                74                       1  \n",
       "1             None               100                85                       1  \n",
       "2             None                49                34                       4  "
      ]
     },
     "execution_count": 4,
     "metadata": {},
     "output_type": "execute_result"
    }
   ],
   "source": [
    "rdb.add_retrons_by_csv(dbr, \"demo_files/import-data-New.csv\")"
   ]
  },
  {
   "cell_type": "markdown",
   "id": "be06b7dd",
   "metadata": {},
   "source": [
    "Note: the return DataFrame includes all data associated with imported retrons."
   ]
  },
  {
   "cell_type": "markdown",
   "id": "0332b576",
   "metadata": {},
   "source": [
    "If the retrons you are importing include new properties (i.e., properties that no other retron in the current database has), then you will need to set `new_property=True`. \n",
    "\n",
    "First, let's see what happens if you don't change this setting..."
   ]
  },
  {
   "cell_type": "code",
   "execution_count": 5,
   "id": "d67e0699",
   "metadata": {},
   "outputs": [
    {
     "ename": "UnrecognizedPropertyError",
     "evalue": "Failed to add or update retron. \nOne or more unrecognized properties detected:\n\n\tNew Group ID\n\nDouble check your property names or consider setting new_property=True",
     "output_type": "error",
     "traceback": [
      "\u001b[0;31m---------------------------------------------------------------------------\u001b[0m",
      "\u001b[0;31mUnrecognizedPropertyError\u001b[0m                 Traceback (most recent call last)",
      "\u001b[0;32m/var/folders/pq/w30lpn613x51gjfsdzg3wmg00000gq/T/ipykernel_18910/3055421298.py\u001b[0m in \u001b[0;36m<module>\u001b[0;34m\u001b[0m\n\u001b[0;32m----> 1\u001b[0;31m \u001b[0mrdb\u001b[0m\u001b[0;34m.\u001b[0m\u001b[0madd_retrons_by_csv\u001b[0m\u001b[0;34m(\u001b[0m\u001b[0mdbr\u001b[0m\u001b[0;34m,\u001b[0m \u001b[0;34m\"demo_files/import-data-NewProp.csv\"\u001b[0m\u001b[0;34m)\u001b[0m\u001b[0;34m\u001b[0m\u001b[0;34m\u001b[0m\u001b[0m\n\u001b[0m",
      "\u001b[0;32m~/git/alexanderpico/retrondb-notebooks/retrondb.py\u001b[0m in \u001b[0;36madd_retrons_by_csv\u001b[0;34m(rdb_handle, filename, new_property)\u001b[0m\n\u001b[1;32m    348\u001b[0m     \u001b[0mret_df\u001b[0m \u001b[0;34m=\u001b[0m \u001b[0mread_retron_csv\u001b[0m\u001b[0;34m(\u001b[0m\u001b[0mrdb_handle\u001b[0m\u001b[0;34m=\u001b[0m\u001b[0mrdb_handle\u001b[0m\u001b[0;34m,\u001b[0m \u001b[0mfilename\u001b[0m\u001b[0;34m=\u001b[0m\u001b[0mfilename\u001b[0m\u001b[0;34m)\u001b[0m\u001b[0;34m\u001b[0m\u001b[0;34m\u001b[0m\u001b[0m\n\u001b[1;32m    349\u001b[0m     \u001b[0mradd_props\u001b[0m \u001b[0;34m=\u001b[0m \u001b[0mset\u001b[0m\u001b[0;34m(\u001b[0m\u001b[0mret_df\u001b[0m\u001b[0;34m.\u001b[0m\u001b[0mcolumns\u001b[0m\u001b[0;34m)\u001b[0m\u001b[0;34m\u001b[0m\u001b[0;34m\u001b[0m\u001b[0m\n\u001b[0;32m--> 350\u001b[0;31m     \u001b[0mcheck_new_property\u001b[0m\u001b[0;34m(\u001b[0m\u001b[0mrdb_handle\u001b[0m\u001b[0;34m,\u001b[0m \u001b[0mradd_props\u001b[0m\u001b[0;34m,\u001b[0m \u001b[0mnew_property\u001b[0m\u001b[0;34m)\u001b[0m\u001b[0;34m\u001b[0m\u001b[0;34m\u001b[0m\u001b[0m\n\u001b[0m\u001b[1;32m    351\u001b[0m \u001b[0;34m\u001b[0m\u001b[0m\n\u001b[1;32m    352\u001b[0m     \u001b[0;31m# DF to dict\u001b[0m\u001b[0;34m\u001b[0m\u001b[0;34m\u001b[0m\u001b[0m\n",
      "\u001b[0;32m~/git/alexanderpico/retrondb-notebooks/retrondb.py\u001b[0m in \u001b[0;36mcheck_new_property\u001b[0;34m(rdb_handle, props, new_property)\u001b[0m\n\u001b[1;32m    622\u001b[0m     \u001b[0mradd_new\u001b[0m \u001b[0;34m=\u001b[0m \u001b[0mprops\u001b[0m\u001b[0;34m.\u001b[0m\u001b[0mdifference\u001b[0m\u001b[0;34m(\u001b[0m\u001b[0mrdb_props\u001b[0m\u001b[0;34m)\u001b[0m\u001b[0;34m\u001b[0m\u001b[0;34m\u001b[0m\u001b[0m\n\u001b[1;32m    623\u001b[0m     \u001b[0;32mif\u001b[0m \u001b[0mlen\u001b[0m\u001b[0;34m(\u001b[0m\u001b[0mradd_new\u001b[0m\u001b[0;34m)\u001b[0m \u001b[0;34m>\u001b[0m \u001b[0;36m0\u001b[0m \u001b[0;32mand\u001b[0m \u001b[0;32mnot\u001b[0m \u001b[0mnew_property\u001b[0m\u001b[0;34m:\u001b[0m\u001b[0;34m\u001b[0m\u001b[0;34m\u001b[0m\u001b[0m\n\u001b[0;32m--> 624\u001b[0;31m         \u001b[0;32mraise\u001b[0m \u001b[0mUnrecognizedPropertyError\u001b[0m\u001b[0;34m(\u001b[0m\u001b[0mradd_new\u001b[0m\u001b[0;34m)\u001b[0m\u001b[0;34m\u001b[0m\u001b[0;34m\u001b[0m\u001b[0m\n\u001b[0m\u001b[1;32m    625\u001b[0m \u001b[0;34m\u001b[0m\u001b[0m\n\u001b[1;32m    626\u001b[0m \u001b[0;34m\u001b[0m\u001b[0m\n",
      "\u001b[0;31mUnrecognizedPropertyError\u001b[0m: Failed to add or update retron. \nOne or more unrecognized properties detected:\n\n\tNew Group ID\n\nDouble check your property names or consider setting new_property=True"
     ]
    }
   ],
   "source": [
    "rdb.add_retrons_by_csv(dbr, \"demo_files/import-data-NewProp.csv\")"
   ]
  },
  {
   "cell_type": "markdown",
   "id": "db1b3ace",
   "metadata": {},
   "source": [
    "Note: A custom error should be raised for `UnrecognizedPropertyError` and it will list the new properties detected in the import data. You can then inspect these property names and determine:\n",
    " * Did I make a typo?\n",
    " * Do I not want to import this column?\n",
    " * Do I want to force the database to accept a new property?\n",
    " \n",
    "If you choose the last option, then here is the correct statement:"
   ]
  },
  {
   "cell_type": "code",
   "execution_count": 6,
   "id": "ae977b40",
   "metadata": {},
   "outputs": [
    {
     "name": "stdout",
     "output_type": "stream",
     "text": [
      "Added retrons to the database.\n"
     ]
    },
    {
     "data": {
      "text/html": [
       "<div>\n",
       "<style scoped>\n",
       "    .dataframe tbody tr th:only-of-type {\n",
       "        vertical-align: middle;\n",
       "    }\n",
       "\n",
       "    .dataframe tbody tr th {\n",
       "        vertical-align: top;\n",
       "    }\n",
       "\n",
       "    .dataframe thead th {\n",
       "        text-align: right;\n",
       "    }\n",
       "</style>\n",
       "<table border=\"1\" class=\"dataframe\">\n",
       "  <thead>\n",
       "    <tr style=\"text-align: right;\">\n",
       "      <th></th>\n",
       "      <th>_id</th>\n",
       "      <th>node</th>\n",
       "      <th>ncRNA</th>\n",
       "      <th>ensemble prediction</th>\n",
       "      <th>RTDNA (sequencing values)</th>\n",
       "      <th>RT/Cladea</th>\n",
       "      <th>Retron (sub)b</th>\n",
       "      <th>msr/msd familiyc</th>\n",
       "      <th>RT-DNA production</th>\n",
       "      <th>Bacterial Editing</th>\n",
       "      <th>Mammalian Editing Group</th>\n",
       "      <th>New Group ID</th>\n",
       "    </tr>\n",
       "  </thead>\n",
       "  <tbody>\n",
       "    <tr>\n",
       "      <th>0</th>\n",
       "      <td>62f05ad9f6084038180cb735</td>\n",
       "      <td>6</td>\n",
       "      <td>TCCACAAAGATCGACGAAGCGCCTGGACCTGTAATAGTCGGTACCA...</td>\n",
       "      <td>(((((((((((((......(((((((((...)))))))))..(((....</td>\n",
       "      <td>0.002000257;0.002000257;0.002016815;0.00201681...</td>\n",
       "      <td>None</td>\n",
       "      <td>None</td>\n",
       "      <td>None</td>\n",
       "      <td>84</td>\n",
       "      <td>74</td>\n",
       "      <td>1</td>\n",
       "      <td>A</td>\n",
       "    </tr>\n",
       "    <tr>\n",
       "      <th>1</th>\n",
       "      <td>62f05ad9f6084038180cb736</td>\n",
       "      <td>7</td>\n",
       "      <td>AGGAGTGGCACGTGGCCAGTTACGCATTGAAAGCCATACCCTAAAA...</td>\n",
       "      <td>None</td>\n",
       "      <td>None</td>\n",
       "      <td>None</td>\n",
       "      <td>None</td>\n",
       "      <td>None</td>\n",
       "      <td>100</td>\n",
       "      <td>85</td>\n",
       "      <td>1</td>\n",
       "      <td>A</td>\n",
       "    </tr>\n",
       "    <tr>\n",
       "      <th>2</th>\n",
       "      <td>62f05ad9f6084038180cb737</td>\n",
       "      <td>8</td>\n",
       "      <td>GAACTCTCAAGTATTATCATCCCCGCTGCGACATCGTGGAGTAGGC...</td>\n",
       "      <td>None</td>\n",
       "      <td>None</td>\n",
       "      <td>None</td>\n",
       "      <td>None</td>\n",
       "      <td>None</td>\n",
       "      <td>49</td>\n",
       "      <td>34</td>\n",
       "      <td>4</td>\n",
       "      <td>B</td>\n",
       "    </tr>\n",
       "  </tbody>\n",
       "</table>\n",
       "</div>"
      ],
      "text/plain": [
       "                        _id node  \\\n",
       "0  62f05ad9f6084038180cb735    6   \n",
       "1  62f05ad9f6084038180cb736    7   \n",
       "2  62f05ad9f6084038180cb737    8   \n",
       "\n",
       "                                               ncRNA  \\\n",
       "0  TCCACAAAGATCGACGAAGCGCCTGGACCTGTAATAGTCGGTACCA...   \n",
       "1  AGGAGTGGCACGTGGCCAGTTACGCATTGAAAGCCATACCCTAAAA...   \n",
       "2  GAACTCTCAAGTATTATCATCCCCGCTGCGACATCGTGGAGTAGGC...   \n",
       "\n",
       "                                 ensemble prediction  \\\n",
       "0  (((((((((((((......(((((((((...)))))))))..(((....   \n",
       "1                                               None   \n",
       "2                                               None   \n",
       "\n",
       "                           RTDNA (sequencing values) RT/Cladea Retron (sub)b  \\\n",
       "0  0.002000257;0.002000257;0.002016815;0.00201681...      None          None   \n",
       "1                                               None      None          None   \n",
       "2                                               None      None          None   \n",
       "\n",
       "  msr/msd familiyc RT-DNA production Bacterial Editing  \\\n",
       "0             None                84                74   \n",
       "1             None               100                85   \n",
       "2             None                49                34   \n",
       "\n",
       "  Mammalian Editing Group New Group ID  \n",
       "0                       1            A  \n",
       "1                       1            A  \n",
       "2                       4            B  "
      ]
     },
     "execution_count": 6,
     "metadata": {},
     "output_type": "execute_result"
    }
   ],
   "source": [
    "rdb.add_retrons_by_csv(dbr, \"demo_files/import-data-NewProp.csv\", new_property=True)"
   ]
  },
  {
   "cell_type": "markdown",
   "id": "06c39a9e",
   "metadata": {},
   "source": [
    "Note: Scroll to the right to see the new property. Subsequent imports containing \"New Group ID\" will no longer require `new_property=True`."
   ]
  },
  {
   "cell_type": "markdown",
   "id": "f1ee123a",
   "metadata": {},
   "source": [
    "Another safeguard is the requirement for `node` property containing a unique integer (as str in the database). This requirement protects against duplicate records and adding, updating or removing the wrong retrons.\n",
    "\n",
    "Let's see the what happens if you try to import a new retron with a pre-existing node ID..."
   ]
  },
  {
   "cell_type": "code",
   "execution_count": 7,
   "id": "fab97e0c",
   "metadata": {},
   "outputs": [
    {
     "name": "stdout",
     "output_type": "stream",
     "text": [
      "\u001b[91m DuplicateKeyError\u001b[00m: A retron with the same node ID already exists in the database. Either change the node ID, remove the \"node\" property, or consider using update_retron().\n"
     ]
    }
   ],
   "source": [
    "rdb.add_retrons_by_csv(dbr, \"demo_files/import-data-NewProp.csv\")"
   ]
  },
  {
   "cell_type": "markdown",
   "id": "421737ed",
   "metadata": {},
   "source": [
    "Note: A custom error should be raised for `DuplicateKeyError` with advice about how to fix it. For example, perhaps you intended to update existing retrons rather than add new ones, in which case check out `updating-retrons.ipynb`."
   ]
  },
  {
   "cell_type": "markdown",
   "id": "e535fe2d",
   "metadata": {},
   "source": [
    "# Cleanup\n",
    "This chunk will remove all the retrons added to the sandbox above, so the sandbox is ready for the next user."
   ]
  },
  {
   "cell_type": "code",
   "execution_count": 8,
   "id": "092113be",
   "metadata": {},
   "outputs": [
    {
     "name": "stdout",
     "output_type": "stream",
     "text": [
      "Removed retrons from the database.\n"
     ]
    },
    {
     "data": {
      "text/html": [
       "<div>\n",
       "<style scoped>\n",
       "    .dataframe tbody tr th:only-of-type {\n",
       "        vertical-align: middle;\n",
       "    }\n",
       "\n",
       "    .dataframe tbody tr th {\n",
       "        vertical-align: top;\n",
       "    }\n",
       "\n",
       "    .dataframe thead th {\n",
       "        text-align: right;\n",
       "    }\n",
       "</style>\n",
       "<table border=\"1\" class=\"dataframe\">\n",
       "  <thead>\n",
       "    <tr style=\"text-align: right;\">\n",
       "      <th></th>\n",
       "      <th>_id</th>\n",
       "      <th>node</th>\n",
       "      <th>ncRNA</th>\n",
       "      <th>ensemble prediction</th>\n",
       "      <th>RTDNA (sequencing values)</th>\n",
       "      <th>RT/Cladea</th>\n",
       "      <th>Retron (sub)b</th>\n",
       "      <th>msr/msd familiyc</th>\n",
       "      <th>RT-DNA production</th>\n",
       "      <th>Bacterial Editing</th>\n",
       "      <th>Mammalian Editing Group</th>\n",
       "      <th>New Group ID</th>\n",
       "    </tr>\n",
       "  </thead>\n",
       "  <tbody>\n",
       "    <tr>\n",
       "      <th>0</th>\n",
       "      <td>62f05acff6084038180cb732</td>\n",
       "      <td>3</td>\n",
       "      <td>TCCACAAAGATCGACGAAGCGCCTGGACCTGTAATAGTCGGTACCA...</td>\n",
       "      <td>(((((((((((((......(((((((((...)))))))))..(((....</td>\n",
       "      <td>0.002000257;0.002000257;0.002016815;0.00201681...</td>\n",
       "      <td>None</td>\n",
       "      <td>None</td>\n",
       "      <td>None</td>\n",
       "      <td>84</td>\n",
       "      <td>74</td>\n",
       "      <td>1</td>\n",
       "      <td>NaN</td>\n",
       "    </tr>\n",
       "    <tr>\n",
       "      <th>1</th>\n",
       "      <td>62f05acff6084038180cb733</td>\n",
       "      <td>4</td>\n",
       "      <td>AGGAGTGGCACGTGGCCAGTTACGCATTGAAAGCCATACCCTAAAA...</td>\n",
       "      <td>None</td>\n",
       "      <td>None</td>\n",
       "      <td>None</td>\n",
       "      <td>None</td>\n",
       "      <td>None</td>\n",
       "      <td>100</td>\n",
       "      <td>85</td>\n",
       "      <td>1</td>\n",
       "      <td>NaN</td>\n",
       "    </tr>\n",
       "    <tr>\n",
       "      <th>2</th>\n",
       "      <td>62f05acff6084038180cb734</td>\n",
       "      <td>5</td>\n",
       "      <td>GAACTCTCAAGTATTATCATCCCCGCTGCGACATCGTGGAGTAGGC...</td>\n",
       "      <td>None</td>\n",
       "      <td>None</td>\n",
       "      <td>None</td>\n",
       "      <td>None</td>\n",
       "      <td>None</td>\n",
       "      <td>49</td>\n",
       "      <td>34</td>\n",
       "      <td>4</td>\n",
       "      <td>NaN</td>\n",
       "    </tr>\n",
       "    <tr>\n",
       "      <th>3</th>\n",
       "      <td>62f05ad9f6084038180cb735</td>\n",
       "      <td>6</td>\n",
       "      <td>TCCACAAAGATCGACGAAGCGCCTGGACCTGTAATAGTCGGTACCA...</td>\n",
       "      <td>(((((((((((((......(((((((((...)))))))))..(((....</td>\n",
       "      <td>0.002000257;0.002000257;0.002016815;0.00201681...</td>\n",
       "      <td>None</td>\n",
       "      <td>None</td>\n",
       "      <td>None</td>\n",
       "      <td>84</td>\n",
       "      <td>74</td>\n",
       "      <td>1</td>\n",
       "      <td>A</td>\n",
       "    </tr>\n",
       "    <tr>\n",
       "      <th>4</th>\n",
       "      <td>62f05ad9f6084038180cb736</td>\n",
       "      <td>7</td>\n",
       "      <td>AGGAGTGGCACGTGGCCAGTTACGCATTGAAAGCCATACCCTAAAA...</td>\n",
       "      <td>None</td>\n",
       "      <td>None</td>\n",
       "      <td>None</td>\n",
       "      <td>None</td>\n",
       "      <td>None</td>\n",
       "      <td>100</td>\n",
       "      <td>85</td>\n",
       "      <td>1</td>\n",
       "      <td>A</td>\n",
       "    </tr>\n",
       "    <tr>\n",
       "      <th>5</th>\n",
       "      <td>62f05ad9f6084038180cb737</td>\n",
       "      <td>8</td>\n",
       "      <td>GAACTCTCAAGTATTATCATCCCCGCTGCGACATCGTGGAGTAGGC...</td>\n",
       "      <td>None</td>\n",
       "      <td>None</td>\n",
       "      <td>None</td>\n",
       "      <td>None</td>\n",
       "      <td>None</td>\n",
       "      <td>49</td>\n",
       "      <td>34</td>\n",
       "      <td>4</td>\n",
       "      <td>B</td>\n",
       "    </tr>\n",
       "  </tbody>\n",
       "</table>\n",
       "</div>"
      ],
      "text/plain": [
       "                        _id node  \\\n",
       "0  62f05acff6084038180cb732    3   \n",
       "1  62f05acff6084038180cb733    4   \n",
       "2  62f05acff6084038180cb734    5   \n",
       "3  62f05ad9f6084038180cb735    6   \n",
       "4  62f05ad9f6084038180cb736    7   \n",
       "5  62f05ad9f6084038180cb737    8   \n",
       "\n",
       "                                               ncRNA  \\\n",
       "0  TCCACAAAGATCGACGAAGCGCCTGGACCTGTAATAGTCGGTACCA...   \n",
       "1  AGGAGTGGCACGTGGCCAGTTACGCATTGAAAGCCATACCCTAAAA...   \n",
       "2  GAACTCTCAAGTATTATCATCCCCGCTGCGACATCGTGGAGTAGGC...   \n",
       "3  TCCACAAAGATCGACGAAGCGCCTGGACCTGTAATAGTCGGTACCA...   \n",
       "4  AGGAGTGGCACGTGGCCAGTTACGCATTGAAAGCCATACCCTAAAA...   \n",
       "5  GAACTCTCAAGTATTATCATCCCCGCTGCGACATCGTGGAGTAGGC...   \n",
       "\n",
       "                                 ensemble prediction  \\\n",
       "0  (((((((((((((......(((((((((...)))))))))..(((....   \n",
       "1                                               None   \n",
       "2                                               None   \n",
       "3  (((((((((((((......(((((((((...)))))))))..(((....   \n",
       "4                                               None   \n",
       "5                                               None   \n",
       "\n",
       "                           RTDNA (sequencing values) RT/Cladea Retron (sub)b  \\\n",
       "0  0.002000257;0.002000257;0.002016815;0.00201681...      None          None   \n",
       "1                                               None      None          None   \n",
       "2                                               None      None          None   \n",
       "3  0.002000257;0.002000257;0.002016815;0.00201681...      None          None   \n",
       "4                                               None      None          None   \n",
       "5                                               None      None          None   \n",
       "\n",
       "  msr/msd familiyc RT-DNA production Bacterial Editing  \\\n",
       "0             None                84                74   \n",
       "1             None               100                85   \n",
       "2             None                49                34   \n",
       "3             None                84                74   \n",
       "4             None               100                85   \n",
       "5             None                49                34   \n",
       "\n",
       "  Mammalian Editing Group New Group ID  \n",
       "0                       1          NaN  \n",
       "1                       1          NaN  \n",
       "2                       4          NaN  \n",
       "3                       1            A  \n",
       "4                       1            A  \n",
       "5                       4            B  "
      ]
     },
     "execution_count": 8,
     "metadata": {},
     "output_type": "execute_result"
    }
   ],
   "source": [
    "rdb.remove_retrons_by(dbr, \"node\", {\"$in\":[\"3\",\"4\",\"5\",\"6\",\"7\",\"8\"]})"
   ]
  },
  {
   "cell_type": "code",
   "execution_count": null,
   "id": "f5459095",
   "metadata": {},
   "outputs": [],
   "source": []
  }
 ],
 "metadata": {
  "kernelspec": {
   "display_name": "Python 3 (ipykernel)",
   "language": "python",
   "name": "python3"
  },
  "language_info": {
   "codemirror_mode": {
    "name": "ipython",
    "version": 3
   },
   "file_extension": ".py",
   "mimetype": "text/x-python",
   "name": "python",
   "nbconvert_exporter": "python",
   "pygments_lexer": "ipython3",
   "version": "3.9.7"
  }
 },
 "nbformat": 4,
 "nbformat_minor": 5
}
