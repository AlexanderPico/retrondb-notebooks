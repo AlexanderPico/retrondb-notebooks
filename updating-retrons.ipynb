{
 "cells": [
  {
   "cell_type": "markdown",
   "id": "94636b60",
   "metadata": {},
   "source": [
    "# Updating Retrons\n",
    "This is how you update, augment or edit retrons already in the database using a CSV file. These operations are distinct from adding new retrons (see `importing-retrons.ipynb`)."
   ]
  },
  {
   "cell_type": "markdown",
   "id": "c7acd9ef",
   "metadata": {},
   "source": [
    "### Connecting to the database\n",
    "If you are not sure how to do this, review `getting-started.ipynb`."
   ]
  },
  {
   "cell_type": "code",
   "execution_count": null,
   "id": "22e31341",
   "metadata": {},
   "outputs": [],
   "source": [
    "import retrondb as rdb\n",
    "dbr = rdb.connect_retronDB('sandbox') #this database is for demos and tutorials; it is not the actual database"
   ]
  },
  {
   "cell_type": "markdown",
   "id": "40616fe8",
   "metadata": {},
   "source": [
    "### Updating retron data in the database\n",
    "As long as the retron properties you are updating already exist in the database, then you can leave the `new_property` paramater set to `False` and protect against accepting typos and using unconventional property names."
   ]
  },
  {
   "cell_type": "code",
   "execution_count": null,
   "id": "7e4e6598",
   "metadata": {},
   "outputs": [],
   "source": [
    "rdb.update_retrons_by_csv()"
   ]
  }
 ],
 "metadata": {
  "kernelspec": {
   "display_name": "Python 3 (ipykernel)",
   "language": "python",
   "name": "python3"
  },
  "language_info": {
   "codemirror_mode": {
    "name": "ipython",
    "version": 3
   },
   "file_extension": ".py",
   "mimetype": "text/x-python",
   "name": "python",
   "nbconvert_exporter": "python",
   "pygments_lexer": "ipython3",
   "version": "3.9.7"
  }
 },
 "nbformat": 4,
 "nbformat_minor": 5
}
