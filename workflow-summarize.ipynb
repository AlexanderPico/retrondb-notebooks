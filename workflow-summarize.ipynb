{
 "cells": [
  {
   "cell_type": "markdown",
   "id": "5a8a16e4",
   "metadata": {
    "colab_type": "text",
    "id": "view-in-github"
   },
   "source": [
    "<a href=\"https://colab.research.google.com/github/AlexanderPico/retrondb-notebooks/blob/main/workflow-summarize.ipynb\" target=\"_parent\"><img src=\"https://colab.research.google.com/assets/colab-badge.svg\" alt=\"Open In Colab\"/></a>"
   ]
  },
  {
   "cell_type": "markdown",
   "id": "4408ec64",
   "metadata": {},
   "source": [
    "# Workflow: Database Summary\n",
    "This worflow summarizes the contents of the Retron Database"
   ]
  },
  {
   "cell_type": "markdown",
   "id": "9ac08e37",
   "metadata": {},
   "source": [
    "### If running in Colab\n",
    "You'll need to upload retrondb.py into the `contents` folder using the GUI on the left. And also install these dependencies into your Colab instance."
   ]
  },
  {
   "cell_type": "code",
   "execution_count": null,
   "id": "bc5efb0d",
   "metadata": {},
   "outputs": [],
   "source": [
    "!pip install pymongo\n",
    "!pip install dnspython\n",
    "!pip install python-dotenv"
   ]
  },
  {
   "cell_type": "markdown",
   "id": "9170276b",
   "metadata": {},
   "source": [
    "### Connecting to the database\n",
    "If you are not sure how to do this, review `getting-started.ipynb`."
   ]
  },
  {
   "cell_type": "code",
   "execution_count": 1,
   "id": "812060a7",
   "metadata": {},
   "outputs": [
    {
     "name": "stdout",
     "output_type": "stream",
     "text": [
      "\n",
      "\u001b[92m Success\u001b[00m: Connected to retronDB with 110 retrons\n",
      "\n"
     ]
    }
   ],
   "source": [
    "import retrondb as rdb\n",
    "dbr = rdb.connect_retronDB()  # connects to the real database by default, not 'sandbox'"
   ]
  },
  {
   "cell_type": "markdown",
   "id": "db44a54c",
   "metadata": {},
   "source": [
    "### DataFrame summaries\n",
    "The default returns from `retrondb` functions are pandas.DataFrames, so we can apply all the cool stuff you'd normally use to explore a DataFrame."
   ]
  },
  {
   "cell_type": "code",
   "execution_count": 5,
   "id": "4efd2d11",
   "metadata": {},
   "outputs": [
    {
     "name": "stdout",
     "output_type": "stream",
     "text": [
      "<class 'pandas.core.frame.DataFrame'>\n",
      "RangeIndex: 110 entries, 0 to 109\n",
      "Data columns (total 23 columns):\n",
      " #   Column                     Non-Null Count  Dtype \n",
      "---  ------                     --------------  ----- \n",
      " 0   _id                        110 non-null    object\n",
      " 1   node                       110 non-null    object\n",
      " 2   ncrna                      95 non-null     object\n",
      " 3   ensemble prediction        43 non-null     object\n",
      " 4   rtdna (sequencing values)  4 non-null      object\n",
      " 5   rt/cladea                  69 non-null     object\n",
      " 6   retron (sub)b              64 non-null     object\n",
      " 7   msr/msd familiyc           43 non-null     object\n",
      " 8   rt-dna production          95 non-null     object\n",
      " 9   bacterial editing          95 non-null     object\n",
      " 10  mammalian editing group    95 non-null     object\n",
      " 11  accesione                  68 non-null     object\n",
      " 12  bacterial vector           68 non-null     object\n",
      " 13  class                      66 non-null     object\n",
      " 14  cluster/domaind            67 non-null     object\n",
      " 15  domain                     68 non-null     object\n",
      " 16  family                     65 non-null     object\n",
      " 17  genus                      63 non-null     object\n",
      " 18  order                      65 non-null     object\n",
      " 19  phylum                     68 non-null     object\n",
      " 20  retron namef               54 non-null     object\n",
      " 21  species/strain             68 non-null     object\n",
      " 22  taxon code                 68 non-null     object\n",
      "dtypes: object(23)\n",
      "memory usage: 19.9+ KB\n"
     ]
    }
   ],
   "source": [
    "retron_df = rdb.get_all_retrons(dbr)\n",
    "\n",
    "# information on property names and counts\n",
    "retron_df.info()"
   ]
  },
  {
   "cell_type": "code",
   "execution_count": 7,
   "id": "9039baef",
   "metadata": {},
   "outputs": [
    {
     "data": {
      "text/html": [
       "<div>\n",
       "<style scoped>\n",
       "    .dataframe tbody tr th:only-of-type {\n",
       "        vertical-align: middle;\n",
       "    }\n",
       "\n",
       "    .dataframe tbody tr th {\n",
       "        vertical-align: top;\n",
       "    }\n",
       "\n",
       "    .dataframe thead th {\n",
       "        text-align: right;\n",
       "    }\n",
       "</style>\n",
       "<table border=\"1\" class=\"dataframe\">\n",
       "  <thead>\n",
       "    <tr style=\"text-align: right;\">\n",
       "      <th></th>\n",
       "      <th>_id</th>\n",
       "      <th>node</th>\n",
       "      <th>ncrna</th>\n",
       "      <th>ensemble prediction</th>\n",
       "      <th>rtdna (sequencing values)</th>\n",
       "      <th>rt/cladea</th>\n",
       "      <th>retron (sub)b</th>\n",
       "      <th>msr/msd familiyc</th>\n",
       "      <th>rt-dna production</th>\n",
       "      <th>bacterial editing</th>\n",
       "      <th>...</th>\n",
       "      <th>class</th>\n",
       "      <th>cluster/domaind</th>\n",
       "      <th>domain</th>\n",
       "      <th>family</th>\n",
       "      <th>genus</th>\n",
       "      <th>order</th>\n",
       "      <th>phylum</th>\n",
       "      <th>retron namef</th>\n",
       "      <th>species/strain</th>\n",
       "      <th>taxon code</th>\n",
       "    </tr>\n",
       "  </thead>\n",
       "  <tbody>\n",
       "    <tr>\n",
       "      <th>count</th>\n",
       "      <td>110</td>\n",
       "      <td>110</td>\n",
       "      <td>95</td>\n",
       "      <td>43</td>\n",
       "      <td>4</td>\n",
       "      <td>69</td>\n",
       "      <td>64</td>\n",
       "      <td>43</td>\n",
       "      <td>95</td>\n",
       "      <td>95</td>\n",
       "      <td>...</td>\n",
       "      <td>66</td>\n",
       "      <td>67</td>\n",
       "      <td>68</td>\n",
       "      <td>65</td>\n",
       "      <td>63</td>\n",
       "      <td>65</td>\n",
       "      <td>68</td>\n",
       "      <td>54</td>\n",
       "      <td>68</td>\n",
       "      <td>68</td>\n",
       "    </tr>\n",
       "    <tr>\n",
       "      <th>unique</th>\n",
       "      <td>110</td>\n",
       "      <td>110</td>\n",
       "      <td>95</td>\n",
       "      <td>43</td>\n",
       "      <td>4</td>\n",
       "      <td>12</td>\n",
       "      <td>20</td>\n",
       "      <td>16</td>\n",
       "      <td>64</td>\n",
       "      <td>63</td>\n",
       "      <td>...</td>\n",
       "      <td>11</td>\n",
       "      <td>23</td>\n",
       "      <td>1</td>\n",
       "      <td>32</td>\n",
       "      <td>40</td>\n",
       "      <td>22</td>\n",
       "      <td>6</td>\n",
       "      <td>35</td>\n",
       "      <td>58</td>\n",
       "      <td>57</td>\n",
       "    </tr>\n",
       "    <tr>\n",
       "      <th>top</th>\n",
       "      <td>62f1b841959907d83045e641</td>\n",
       "      <td>1</td>\n",
       "      <td>AATAATCTTACGCGGATAGAAATGTAATTATCGGTTGTTAGGAGAT...</td>\n",
       "      <td>((((((((.........((((((((((......)))).)))))).(...</td>\n",
       "      <td>0.00003;0.00003;0.00003;0.00006;0.00006;0.0000...</td>\n",
       "      <td>1</td>\n",
       "      <td>II-A1</td>\n",
       "      <td>IA/IIA1</td>\n",
       "      <td>4</td>\n",
       "      <td>78</td>\n",
       "      <td>...</td>\n",
       "      <td>Gammaproteobacteria</td>\n",
       "      <td>42_2</td>\n",
       "      <td>Bacteria</td>\n",
       "      <td>Enterobacteriaceae</td>\n",
       "      <td>Escherichia</td>\n",
       "      <td>Enterobacterales</td>\n",
       "      <td>Proteobacteria</td>\n",
       "      <td>X</td>\n",
       "      <td>Escherichia coli</td>\n",
       "      <td>670897</td>\n",
       "    </tr>\n",
       "    <tr>\n",
       "      <th>freq</th>\n",
       "      <td>1</td>\n",
       "      <td>1</td>\n",
       "      <td>1</td>\n",
       "      <td>1</td>\n",
       "      <td>1</td>\n",
       "      <td>14</td>\n",
       "      <td>8</td>\n",
       "      <td>11</td>\n",
       "      <td>5</td>\n",
       "      <td>4</td>\n",
       "      <td>...</td>\n",
       "      <td>36</td>\n",
       "      <td>8</td>\n",
       "      <td>68</td>\n",
       "      <td>19</td>\n",
       "      <td>10</td>\n",
       "      <td>20</td>\n",
       "      <td>51</td>\n",
       "      <td>20</td>\n",
       "      <td>7</td>\n",
       "      <td>8</td>\n",
       "    </tr>\n",
       "  </tbody>\n",
       "</table>\n",
       "<p>4 rows × 23 columns</p>\n",
       "</div>"
      ],
      "text/plain": [
       "                             _id node  \\\n",
       "count                        110  110   \n",
       "unique                       110  110   \n",
       "top     62f1b841959907d83045e641    1   \n",
       "freq                           1    1   \n",
       "\n",
       "                                                    ncrna  \\\n",
       "count                                                  95   \n",
       "unique                                                 95   \n",
       "top     AATAATCTTACGCGGATAGAAATGTAATTATCGGTTGTTAGGAGAT...   \n",
       "freq                                                    1   \n",
       "\n",
       "                                      ensemble prediction  \\\n",
       "count                                                  43   \n",
       "unique                                                 43   \n",
       "top     ((((((((.........((((((((((......)))).)))))).(...   \n",
       "freq                                                    1   \n",
       "\n",
       "                                rtdna (sequencing values) rt/cladea  \\\n",
       "count                                                   4        69   \n",
       "unique                                                  4        12   \n",
       "top     0.00003;0.00003;0.00003;0.00006;0.00006;0.0000...         1   \n",
       "freq                                                    1        14   \n",
       "\n",
       "       retron (sub)b msr/msd familiyc rt-dna production bacterial editing  \\\n",
       "count             64               43                95                95   \n",
       "unique            20               16                64                63   \n",
       "top            II-A1          IA/IIA1                 4                78   \n",
       "freq               8               11                 5                 4   \n",
       "\n",
       "        ...                class cluster/domaind    domain  \\\n",
       "count   ...                   66              67        68   \n",
       "unique  ...                   11              23         1   \n",
       "top     ...  Gammaproteobacteria            42_2  Bacteria   \n",
       "freq    ...                   36               8        68   \n",
       "\n",
       "                    family        genus             order          phylum  \\\n",
       "count                   65           63                65              68   \n",
       "unique                  32           40                22               6   \n",
       "top     Enterobacteriaceae  Escherichia  Enterobacterales  Proteobacteria   \n",
       "freq                    19           10                20              51   \n",
       "\n",
       "       retron namef    species/strain taxon code  \n",
       "count            54                68         68  \n",
       "unique           35                58         57  \n",
       "top               X  Escherichia coli     670897  \n",
       "freq             20                 7          8  \n",
       "\n",
       "[4 rows x 23 columns]"
      ]
     },
     "execution_count": 7,
     "metadata": {},
     "output_type": "execute_result"
    }
   ],
   "source": [
    "# describe all properties\n",
    "retron_df.describe()"
   ]
  },
  {
   "cell_type": "code",
   "execution_count": 47,
   "id": "b8831350",
   "metadata": {},
   "outputs": [
    {
     "data": {
      "text/plain": [
       "count     95.000000\n",
       "mean      48.442105\n",
       "std       31.609558\n",
       "min        0.000000\n",
       "25%       20.500000\n",
       "50%       46.000000\n",
       "75%       78.000000\n",
       "max      100.000000\n",
       "dtype: float64"
      ]
     },
     "execution_count": 47,
     "metadata": {},
     "output_type": "execute_result"
    }
   ],
   "source": [
    "# describe a numeric property\n",
    "import pandas as pd\n",
    "rtdna_prod_str =[x for x in retron_df['rt-dna production'] if isinstance(x,str)] #exclude NaN float values\n",
    "rtdna_prod_ints = [int(p) for p in rtdna_prod_str] #cast to int\n",
    "pd.Series(rtdna_prod_ints).describe() #describe list of ints as a Series"
   ]
  },
  {
   "cell_type": "code",
   "execution_count": 53,
   "id": "a3ac3bb3",
   "metadata": {},
   "outputs": [
    {
     "data": {
      "text/plain": [
       "IA/IIA1                  11\n",
       "IC                        5\n",
       "IIIIA3                    5\n",
       "IIIA1                     3\n",
       "IX                        3\n",
       "XIII (Ne144)              3\n",
       "Ec107-like                2\n",
       "V                         2\n",
       "XIII (Mx162)              2\n",
       "IV                        1\n",
       "IB2 (Proteobacteria)      1\n",
       "IIIIA2                    1\n",
       "IIA3 (Proteobacteria)     1\n",
       "XIII (Mx65)               1\n",
       "A                         1\n",
       "B                         1\n",
       "Name: msr/msd familiyc, dtype: int64"
      ]
     },
     "execution_count": 53,
     "metadata": {},
     "output_type": "execute_result"
    }
   ],
   "source": [
    "# count categorical property values\n",
    "retron_df['msr/msd familiyc'].value_counts()"
   ]
  },
  {
   "cell_type": "code",
   "execution_count": 63,
   "id": "ef63efc2",
   "metadata": {},
   "outputs": [
    {
     "data": {
      "text/plain": [
       "Index(['IA/IIA1', 'IC', 'IIIIA3', 'IIIA1', 'IX', 'XIII (Ne144)', 'Ec107-like',\n",
       "       'V', 'XIII (Mx162)', 'IV', 'IB2 (Proteobacteria)', 'IIIIA2',\n",
       "       'IIA3 (Proteobacteria)', 'XIII (Mx65)', 'A', 'B'],\n",
       "      dtype='object')"
      ]
     },
     "execution_count": 63,
     "metadata": {},
     "output_type": "execute_result"
    }
   ],
   "source": [
    "# frequency of categorical property values\n",
    "fam_freq = retron_df['msr/msd familiyc'].value_counts(normalize=True)\n",
    "fam_freq"
   ]
  },
  {
   "cell_type": "code",
   "execution_count": 67,
   "id": "6ea97df9",
   "metadata": {},
   "outputs": [
    {
     "data": {
      "image/png": "[encoded data removed]",
      "text/plain": [
       "<Figure size 504x504 with 1 Axes>"
      ]
     },
     "metadata": {},
     "output_type": "display_data"
    }
   ],
   "source": [
    "# visualization!\n",
    "from matplotlib import pyplot as plt\n",
    "fig = plt.figure(figsize =(7, 7))\n",
    "plt.pie(fam_freq.values, labels = fam_freq.index)\n",
    "plt.show()"
   ]
  }
 ],
 "metadata": {
  "kernelspec": {
   "display_name": "Python 3 (ipykernel)",
   "language": "python",
   "name": "python3"
  },
  "language_info": {
   "codemirror_mode": {
    "name": "ipython",
    "version": 3
   },
   "file_extension": ".py",
   "mimetype": "text/x-python",
   "name": "python",
   "nbconvert_exporter": "python",
   "pygments_lexer": "ipython3",
   "version": "3.9.7"
  }
 },
 "nbformat": 4,
 "nbformat_minor": 5
}
