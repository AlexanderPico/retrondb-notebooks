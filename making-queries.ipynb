{
 "cells": [
  {
   "cell_type": "markdown",
   "id": "5a8a16e4",
   "metadata": {
    "colab_type": "text",
    "id": "view-in-github"
   },
   "source": [
    "<a href=\"https://colab.research.google.com/github/AlexanderPico/retrondb-notebooks/blob/main/making-queries.ipynb\" target=\"_parent\"><img src=\"https://colab.research.google.com/assets/colab-badge.svg\" alt=\"Open In Colab\"/></a>"
   ]
  },
  {
   "cell_type": "markdown",
   "id": "882b4c38",
   "metadata": {},
   "source": [
    "# Making Queries\n",
    "Examples of querying the retron database using the `retrondb` package."
   ]
  },
  {
   "cell_type": "markdown",
   "id": "5c4cc9e8",
   "metadata": {},
   "source": [
    "### Connecting to the database\n",
    "If you are not sure how to do this, review `getting-started.ipynb`."
   ]
  },
  {
   "cell_type": "code",
   "execution_count": 2,
   "id": "aa9ca4e6",
   "metadata": {},
   "outputs": [
    {
     "name": "stdout",
     "output_type": "stream",
     "text": [
      "\n",
      "\u001b[92m Success\u001b[00m: Connected to sandbox with 95 retrons\n",
      "\n"
     ]
    }
   ],
   "source": [
    "import retrondb as rdb\n",
    "dbr = rdb.connect_retronDB('sandbox') #this database is for demos and tutorials; it is not the actual database"
   ]
  },
  {
   "cell_type": "markdown",
   "id": "48f728aa",
   "metadata": {},
   "source": [
    "### Query by node ID\n",
    "If you know the node IDs you are looking for, then this is the way to retrieve them."
   ]
  },
  {
   "cell_type": "code",
   "execution_count": 29,
   "id": "bc6b5a52",
   "metadata": {},
   "outputs": [
    {
     "data": {
      "text/html": [
       "<div>\n",
       "<style scoped>\n",
       "    .dataframe tbody tr th:only-of-type {\n",
       "        vertical-align: middle;\n",
       "    }\n",
       "\n",
       "    .dataframe tbody tr th {\n",
       "        vertical-align: top;\n",
       "    }\n",
       "\n",
       "    .dataframe thead th {\n",
       "        text-align: right;\n",
       "    }\n",
       "</style>\n",
       "<table border=\"1\" class=\"dataframe\">\n",
       "  <thead>\n",
       "    <tr style=\"text-align: right;\">\n",
       "      <th></th>\n",
       "      <th>_id</th>\n",
       "      <th>node</th>\n",
       "      <th>ncrna</th>\n",
       "      <th>ensemble prediction</th>\n",
       "      <th>rtdna (sequencing values)</th>\n",
       "      <th>rt/cladea</th>\n",
       "      <th>retron (sub)b</th>\n",
       "      <th>msr/msd familiyc</th>\n",
       "      <th>rt-dna production</th>\n",
       "      <th>bacterial editing</th>\n",
       "      <th>mammalian editing group</th>\n",
       "    </tr>\n",
       "  </thead>\n",
       "  <tbody>\n",
       "    <tr>\n",
       "      <th>0</th>\n",
       "      <td>62f1b857959907d83045e6a1</td>\n",
       "      <td>1</td>\n",
       "      <td>AATAATCTTACGCGGATAGAAATGTAATTATCGGTTGTTAGGAGAT...</td>\n",
       "      <td>None</td>\n",
       "      <td>None</td>\n",
       "      <td>1</td>\n",
       "      <td>I-A</td>\n",
       "      <td>IA/IIA1</td>\n",
       "      <td>57</td>\n",
       "      <td>25</td>\n",
       "      <td>1</td>\n",
       "    </tr>\n",
       "  </tbody>\n",
       "</table>\n",
       "</div>"
      ],
      "text/plain": [
       "                        _id node  \\\n",
       "0  62f1b857959907d83045e6a1    1   \n",
       "\n",
       "                                               ncrna ensemble prediction  \\\n",
       "0  AATAATCTTACGCGGATAGAAATGTAATTATCGGTTGTTAGGAGAT...                None   \n",
       "\n",
       "  rtdna (sequencing values) rt/cladea retron (sub)b msr/msd familiyc  \\\n",
       "0                      None         1           I-A          IA/IIA1   \n",
       "\n",
       "  rt-dna production bacterial editing mammalian editing group  \n",
       "0                57                25                       1  "
      ]
     },
     "execution_count": 29,
     "metadata": {},
     "output_type": "execute_result"
    }
   ],
   "source": [
    "# Simple node ID lookup. Only works for one node ID at a time.\n",
    "rdb.get_retron(dbr,\"1\")"
   ]
  },
  {
   "cell_type": "markdown",
   "id": "04bfd5c9",
   "metadata": {},
   "source": [
    "To retrieve multiple retrons by node ID, use this `set` syntax with comparison operators: \n",
    " * `$in` : in a list of values\n",
    " * `$nin` : not in a list of values\n",
    " * `$eq` : equal to a value\n",
    " * `$neq` : not equal to a value"
   ]
  },
  {
   "cell_type": "code",
   "execution_count": 30,
   "id": "c8fc60ce",
   "metadata": {},
   "outputs": [
    {
     "data": {
      "text/html": [
       "<div>\n",
       "<style scoped>\n",
       "    .dataframe tbody tr th:only-of-type {\n",
       "        vertical-align: middle;\n",
       "    }\n",
       "\n",
       "    .dataframe tbody tr th {\n",
       "        vertical-align: top;\n",
       "    }\n",
       "\n",
       "    .dataframe thead th {\n",
       "        text-align: right;\n",
       "    }\n",
       "</style>\n",
       "<table border=\"1\" class=\"dataframe\">\n",
       "  <thead>\n",
       "    <tr style=\"text-align: right;\">\n",
       "      <th></th>\n",
       "      <th>_id</th>\n",
       "      <th>node</th>\n",
       "      <th>ncrna</th>\n",
       "      <th>ensemble prediction</th>\n",
       "      <th>rtdna (sequencing values)</th>\n",
       "      <th>rt/cladea</th>\n",
       "      <th>retron (sub)b</th>\n",
       "      <th>msr/msd familiyc</th>\n",
       "      <th>rt-dna production</th>\n",
       "      <th>bacterial editing</th>\n",
       "      <th>mammalian editing group</th>\n",
       "    </tr>\n",
       "  </thead>\n",
       "  <tbody>\n",
       "    <tr>\n",
       "      <th>0</th>\n",
       "      <td>62f1b857959907d83045e6a1</td>\n",
       "      <td>1</td>\n",
       "      <td>AATAATCTTACGCGGATAGAAATGTAATTATCGGTTGTTAGGAGAT...</td>\n",
       "      <td>None</td>\n",
       "      <td>None</td>\n",
       "      <td>1</td>\n",
       "      <td>I-A</td>\n",
       "      <td>IA/IIA1</td>\n",
       "      <td>57</td>\n",
       "      <td>25</td>\n",
       "      <td>1</td>\n",
       "    </tr>\n",
       "    <tr>\n",
       "      <th>1</th>\n",
       "      <td>62f1b857959907d83045e6a2</td>\n",
       "      <td>28</td>\n",
       "      <td>ACATACGGGGCGGGAACGCGGAATTGGACAACGTTATTTGACGTAC...</td>\n",
       "      <td>None</td>\n",
       "      <td>None</td>\n",
       "      <td>1</td>\n",
       "      <td>I-A</td>\n",
       "      <td>IA/IIA1</td>\n",
       "      <td>93</td>\n",
       "      <td>32</td>\n",
       "      <td>2</td>\n",
       "    </tr>\n",
       "    <tr>\n",
       "      <th>2</th>\n",
       "      <td>62f1b857959907d83045e6a3</td>\n",
       "      <td>64</td>\n",
       "      <td>CTTACAGACGGGCTGCCTAGGGGTCAACTGGACATAAGATCGGGGC...</td>\n",
       "      <td>((((((((.........((((((((((......)))).)))))).(...</td>\n",
       "      <td>0.00003;0.00003;0.00003;0.00006;0.00006;0.0000...</td>\n",
       "      <td>None</td>\n",
       "      <td>None</td>\n",
       "      <td>None</td>\n",
       "      <td>26</td>\n",
       "      <td>78</td>\n",
       "      <td>2</td>\n",
       "    </tr>\n",
       "  </tbody>\n",
       "</table>\n",
       "</div>"
      ],
      "text/plain": [
       "                        _id node  \\\n",
       "0  62f1b857959907d83045e6a1    1   \n",
       "1  62f1b857959907d83045e6a2   28   \n",
       "2  62f1b857959907d83045e6a3   64   \n",
       "\n",
       "                                               ncrna  \\\n",
       "0  AATAATCTTACGCGGATAGAAATGTAATTATCGGTTGTTAGGAGAT...   \n",
       "1  ACATACGGGGCGGGAACGCGGAATTGGACAACGTTATTTGACGTAC...   \n",
       "2  CTTACAGACGGGCTGCCTAGGGGTCAACTGGACATAAGATCGGGGC...   \n",
       "\n",
       "                                 ensemble prediction  \\\n",
       "0                                               None   \n",
       "1                                               None   \n",
       "2  ((((((((.........((((((((((......)))).)))))).(...   \n",
       "\n",
       "                           rtdna (sequencing values) rt/cladea retron (sub)b  \\\n",
       "0                                               None         1           I-A   \n",
       "1                                               None         1           I-A   \n",
       "2  0.00003;0.00003;0.00003;0.00006;0.00006;0.0000...      None          None   \n",
       "\n",
       "  msr/msd familiyc rt-dna production bacterial editing mammalian editing group  \n",
       "0          IA/IIA1                57                25                       1  \n",
       "1          IA/IIA1                93                32                       2  \n",
       "2             None                26                78                       2  "
      ]
     },
     "execution_count": 30,
     "metadata": {},
     "output_type": "execute_result"
    }
   ],
   "source": [
    "node_list = [\"1\",\"28\",\"64\"]\n",
    "rdb.get_retrons_by(dbr, \"node\", {\"$in\":node_list})"
   ]
  },
  {
   "cell_type": "markdown",
   "id": "a64ed8c3",
   "metadata": {},
   "source": [
    "### Query by any property\n",
    "Alternatively, you can the same syntax above to query on any property in the database."
   ]
  },
  {
   "cell_type": "code",
   "execution_count": 31,
   "id": "7069811a",
   "metadata": {},
   "outputs": [
    {
     "data": {
      "text/html": [
       "<div>\n",
       "<style scoped>\n",
       "    .dataframe tbody tr th:only-of-type {\n",
       "        vertical-align: middle;\n",
       "    }\n",
       "\n",
       "    .dataframe tbody tr th {\n",
       "        vertical-align: top;\n",
       "    }\n",
       "\n",
       "    .dataframe thead th {\n",
       "        text-align: right;\n",
       "    }\n",
       "</style>\n",
       "<table border=\"1\" class=\"dataframe\">\n",
       "  <thead>\n",
       "    <tr style=\"text-align: right;\">\n",
       "      <th></th>\n",
       "      <th>_id</th>\n",
       "      <th>node</th>\n",
       "      <th>ncrna</th>\n",
       "      <th>ensemble prediction</th>\n",
       "      <th>rtdna (sequencing values)</th>\n",
       "      <th>rt/cladea</th>\n",
       "      <th>retron (sub)b</th>\n",
       "      <th>msr/msd familiyc</th>\n",
       "      <th>rt-dna production</th>\n",
       "      <th>bacterial editing</th>\n",
       "      <th>mammalian editing group</th>\n",
       "    </tr>\n",
       "  </thead>\n",
       "  <tbody>\n",
       "    <tr>\n",
       "      <th>0</th>\n",
       "      <td>62f1b857959907d83045e6a1</td>\n",
       "      <td>1</td>\n",
       "      <td>AATAATCTTACGCGGATAGAAATGTAATTATCGGTTGTTAGGAGAT...</td>\n",
       "      <td>None</td>\n",
       "      <td>None</td>\n",
       "      <td>1</td>\n",
       "      <td>I-A</td>\n",
       "      <td>IA/IIA1</td>\n",
       "      <td>57</td>\n",
       "      <td>25</td>\n",
       "      <td>1</td>\n",
       "    </tr>\n",
       "    <tr>\n",
       "      <th>1</th>\n",
       "      <td>62f1b857959907d83045e6a2</td>\n",
       "      <td>28</td>\n",
       "      <td>ACATACGGGGCGGGAACGCGGAATTGGACAACGTTATTTGACGTAC...</td>\n",
       "      <td>None</td>\n",
       "      <td>None</td>\n",
       "      <td>1</td>\n",
       "      <td>I-A</td>\n",
       "      <td>IA/IIA1</td>\n",
       "      <td>93</td>\n",
       "      <td>32</td>\n",
       "      <td>2</td>\n",
       "    </tr>\n",
       "  </tbody>\n",
       "</table>\n",
       "</div>"
      ],
      "text/plain": [
       "                        _id node  \\\n",
       "0  62f1b857959907d83045e6a1    1   \n",
       "1  62f1b857959907d83045e6a2   28   \n",
       "\n",
       "                                               ncrna ensemble prediction  \\\n",
       "0  AATAATCTTACGCGGATAGAAATGTAATTATCGGTTGTTAGGAGAT...                None   \n",
       "1  ACATACGGGGCGGGAACGCGGAATTGGACAACGTTATTTGACGTAC...                None   \n",
       "\n",
       "  rtdna (sequencing values) rt/cladea retron (sub)b msr/msd familiyc  \\\n",
       "0                      None         1           I-A          IA/IIA1   \n",
       "1                      None         1           I-A          IA/IIA1   \n",
       "\n",
       "  rt-dna production bacterial editing mammalian editing group  \n",
       "0                57                25                       1  \n",
       "1                93                32                       2  "
      ]
     },
     "execution_count": 31,
     "metadata": {},
     "output_type": "execute_result"
    }
   ],
   "source": [
    "rdb.get_retrons_by(dbr, \"retron (sub)b\", {\"$eq\":\"I-A\"})"
   ]
  },
  {
   "cell_type": "markdown",
   "id": "f44997e2",
   "metadata": {},
   "source": [
    "### Format query results\n",
    "The default result is provides as pandas `DataFrame`. However, you can also specify `JSON` or `dict` or `raw` (for pymongo objects)."
   ]
  },
  {
   "cell_type": "code",
   "execution_count": 32,
   "id": "9089074b",
   "metadata": {},
   "outputs": [
    {
     "name": "stdout",
     "output_type": "stream",
     "text": [
      "Raw pymongo object: \n",
      "<pymongo.cursor.Cursor object at 0x7fc42989b400>\n",
      "\n",
      "JSON String: \n",
      "[{\"_id\": {\"$oid\": \"62f1b857959907d83045e6a1\"}, \"node\": \"1\", \"ncrna\": \"AATAATCTTACGCGGATAGAAATGTAATTATCGGTTGTTAGGAGATACAAGATGCTTCACCAACTTGTTTGGAGTAAGTGCTGTATCACGAAGTGCGCCGATCGATGTAGTCGGAAAAGCATAGGAAGAGAACCGGATTTGTAAATTCTTTTTAGTCTGCCACCGAACGGGAATATCGCGAACTTCTACAGGACAATGCCTAGCACGCTCTTGGAGGTAAGGCTCACAAAGGCTGTGGTTCTGAGGGCGCGGAGTATACCGGGAAACTCTACCCGGCA\", \"ensemble prediction\": null, \"rtdna (sequencing values)\": null, \"rt/cladea\": \"1\", \"retron (sub)b\": \"I-A\", \"msr/msd familiyc\": \"IA/IIA1\", \"rt-dna production\": \"57\", \"bacterial editing\": \"25\", \"mammalian editing group\": \"1\"}, {\"_id\": {\"$oid\": \"62f1b857959907d83045e6a2\"}, \"node\": \"28\", \"ncrna\": \"ACATACGGGGCGGGAACGCGGAATTGGACAACGTTATTTGACGTACCCTGCAGGGGAATTGTTCTTATGGGTGTGTATCGCGGCCCCGAACGGATAACCCCCGGGTTGTAGGTTCATAGCAGCCAAACGGTGTTCCGGATGTCCCATACACTGCTA\", \"ensemble prediction\": null, \"rtdna (sequencing values)\": null, \"rt/cladea\": \"1\", \"retron (sub)b\": \"I-A\", \"msr/msd familiyc\": \"IA/IIA1\", \"rt-dna production\": \"93\", \"bacterial editing\": \"32\", \"mammalian editing group\": \"2\"}]\n",
      "\n",
      "Python Dictionay: \n",
      "[{'_id': {'$oid': '62f1b857959907d83045e6a1'}, 'node': '1', 'ncrna': 'AATAATCTTACGCGGATAGAAATGTAATTATCGGTTGTTAGGAGATACAAGATGCTTCACCAACTTGTTTGGAGTAAGTGCTGTATCACGAAGTGCGCCGATCGATGTAGTCGGAAAAGCATAGGAAGAGAACCGGATTTGTAAATTCTTTTTAGTCTGCCACCGAACGGGAATATCGCGAACTTCTACAGGACAATGCCTAGCACGCTCTTGGAGGTAAGGCTCACAAAGGCTGTGGTTCTGAGGGCGCGGAGTATACCGGGAAACTCTACCCGGCA', 'ensemble prediction': None, 'rtdna (sequencing values)': None, 'rt/cladea': '1', 'retron (sub)b': 'I-A', 'msr/msd familiyc': 'IA/IIA1', 'rt-dna production': '57', 'bacterial editing': '25', 'mammalian editing group': '1'}, {'_id': {'$oid': '62f1b857959907d83045e6a2'}, 'node': '28', 'ncrna': 'ACATACGGGGCGGGAACGCGGAATTGGACAACGTTATTTGACGTACCCTGCAGGGGAATTGTTCTTATGGGTGTGTATCGCGGCCCCGAACGGATAACCCCCGGGTTGTAGGTTCATAGCAGCCAAACGGTGTTCCGGATGTCCCATACACTGCTA', 'ensemble prediction': None, 'rtdna (sequencing values)': None, 'rt/cladea': '1', 'retron (sub)b': 'I-A', 'msr/msd familiyc': 'IA/IIA1', 'rt-dna production': '93', 'bacterial editing': '32', 'mammalian editing group': '2'}]\n",
      "\n",
      "Pandas DataFrame: \n"
     ]
    },
    {
     "data": {
      "text/html": [
       "<div>\n",
       "<style scoped>\n",
       "    .dataframe tbody tr th:only-of-type {\n",
       "        vertical-align: middle;\n",
       "    }\n",
       "\n",
       "    .dataframe tbody tr th {\n",
       "        vertical-align: top;\n",
       "    }\n",
       "\n",
       "    .dataframe thead th {\n",
       "        text-align: right;\n",
       "    }\n",
       "</style>\n",
       "<table border=\"1\" class=\"dataframe\">\n",
       "  <thead>\n",
       "    <tr style=\"text-align: right;\">\n",
       "      <th></th>\n",
       "      <th>_id</th>\n",
       "      <th>node</th>\n",
       "      <th>ncrna</th>\n",
       "      <th>ensemble prediction</th>\n",
       "      <th>rtdna (sequencing values)</th>\n",
       "      <th>rt/cladea</th>\n",
       "      <th>retron (sub)b</th>\n",
       "      <th>msr/msd familiyc</th>\n",
       "      <th>rt-dna production</th>\n",
       "      <th>bacterial editing</th>\n",
       "      <th>mammalian editing group</th>\n",
       "    </tr>\n",
       "  </thead>\n",
       "  <tbody>\n",
       "    <tr>\n",
       "      <th>0</th>\n",
       "      <td>62f1b857959907d83045e6a1</td>\n",
       "      <td>1</td>\n",
       "      <td>AATAATCTTACGCGGATAGAAATGTAATTATCGGTTGTTAGGAGAT...</td>\n",
       "      <td>None</td>\n",
       "      <td>None</td>\n",
       "      <td>1</td>\n",
       "      <td>I-A</td>\n",
       "      <td>IA/IIA1</td>\n",
       "      <td>57</td>\n",
       "      <td>25</td>\n",
       "      <td>1</td>\n",
       "    </tr>\n",
       "    <tr>\n",
       "      <th>1</th>\n",
       "      <td>62f1b857959907d83045e6a2</td>\n",
       "      <td>28</td>\n",
       "      <td>ACATACGGGGCGGGAACGCGGAATTGGACAACGTTATTTGACGTAC...</td>\n",
       "      <td>None</td>\n",
       "      <td>None</td>\n",
       "      <td>1</td>\n",
       "      <td>I-A</td>\n",
       "      <td>IA/IIA1</td>\n",
       "      <td>93</td>\n",
       "      <td>32</td>\n",
       "      <td>2</td>\n",
       "    </tr>\n",
       "  </tbody>\n",
       "</table>\n",
       "</div>"
      ],
      "text/plain": [
       "                        _id node  \\\n",
       "0  62f1b857959907d83045e6a1    1   \n",
       "1  62f1b857959907d83045e6a2   28   \n",
       "\n",
       "                                               ncrna ensemble prediction  \\\n",
       "0  AATAATCTTACGCGGATAGAAATGTAATTATCGGTTGTTAGGAGAT...                None   \n",
       "1  ACATACGGGGCGGGAACGCGGAATTGGACAACGTTATTTGACGTAC...                None   \n",
       "\n",
       "  rtdna (sequencing values) rt/cladea retron (sub)b msr/msd familiyc  \\\n",
       "0                      None         1           I-A          IA/IIA1   \n",
       "1                      None         1           I-A          IA/IIA1   \n",
       "\n",
       "  rt-dna production bacterial editing mammalian editing group  \n",
       "0                57                25                       1  \n",
       "1                93                32                       2  "
      ]
     },
     "execution_count": 32,
     "metadata": {},
     "output_type": "execute_result"
    }
   ],
   "source": [
    "# Get a single retron by identifier as JSON, a dictionary or DataFrame\n",
    "ret_raw=rdb.get_retrons_by(dbr, \"retron (sub)b\", {\"$eq\":\"I-A\"},\"raw\")\n",
    "ret_json=rdb.get_retrons_by(dbr, \"retron (sub)b\", {\"$eq\":\"I-A\"},\"json\")\n",
    "ret_dict=rdb.get_retrons_by(dbr, \"retron (sub)b\", {\"$eq\":\"I-A\"},\"dict\")\n",
    "ret_df=rdb.get_retrons_by(dbr, \"retron (sub)b\", {\"$eq\":\"I-A\"})\n",
    "print(\"Raw pymongo object: \")\n",
    "print(ret_raw)\n",
    "print(\"\\nJSON String: \")\n",
    "print(ret_json)\n",
    "print(\"\\nPython Dictionay: \")\n",
    "print(ret_dict)\n",
    "print(\"\\nPandas DataFrame: \")\n",
    "ret_df"
   ]
  },
  {
   "cell_type": "code",
   "execution_count": null,
   "id": "32f44976",
   "metadata": {},
   "outputs": [],
   "source": []
  }
 ],
 "metadata": {
  "kernelspec": {
   "display_name": "Python 3 (ipykernel)",
   "language": "python",
   "name": "python3"
  },
  "language_info": {
   "codemirror_mode": {
    "name": "ipython",
    "version": 3
   },
   "file_extension": ".py",
   "mimetype": "text/x-python",
   "name": "python",
   "nbconvert_exporter": "python",
   "pygments_lexer": "ipython3",
   "version": "3.9.7"
  }
 },
 "nbformat": 4,
 "nbformat_minor": 5
}
