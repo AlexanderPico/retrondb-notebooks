{
 "cells": [
  {
   "cell_type": "markdown",
   "id": "34fb0d92",
   "metadata": {},
   "source": [
    "# Making Queries\n",
    "Examples of querying the retron database using the `retrondb` package."
   ]
  },
  {
   "cell_type": "markdown",
   "id": "f403e8f0",
   "metadata": {},
   "source": [
    "### Connecting to the database\n",
    "If you are not sure how to do this, review `getting-started.ipynb`."
   ]
  },
  {
   "cell_type": "code",
   "execution_count": 2,
   "id": "08967bf4",
   "metadata": {},
   "outputs": [
    {
     "name": "stdout",
     "output_type": "stream",
     "text": [
      "\n",
      "\u001b[92m Success\u001b[00m: Connected to sandbox with 95 retrons\n",
      "\n"
     ]
    }
   ],
   "source": [
    "import retrondb as rdb\n",
    "dbr = rdb.connect_retronDB('sandbox') #this database is for demos and tutorials; it is not the actual database"
   ]
  },
  {
   "cell_type": "markdown",
   "id": "fb85d6c7",
   "metadata": {},
   "source": [
    "### Query by node ID\n",
    "If you know the node IDs you are looking for, then this is the way to retrieve them."
   ]
  },
  {
   "cell_type": "code",
   "execution_count": 3,
   "id": "5323bf7c",
   "metadata": {},
   "outputs": [
    {
     "data": {
      "text/html": [
       "<div>\n",
       "<style scoped>\n",
       "    .dataframe tbody tr th:only-of-type {\n",
       "        vertical-align: middle;\n",
       "    }\n",
       "\n",
       "    .dataframe tbody tr th {\n",
       "        vertical-align: top;\n",
       "    }\n",
       "\n",
       "    .dataframe thead th {\n",
       "        text-align: right;\n",
       "    }\n",
       "</style>\n",
       "<table border=\"1\" class=\"dataframe\">\n",
       "  <thead>\n",
       "    <tr style=\"text-align: right;\">\n",
       "      <th></th>\n",
       "      <th>_id</th>\n",
       "      <th>node</th>\n",
       "      <th>ncRNA</th>\n",
       "      <th>ensemble prediction</th>\n",
       "      <th>RTDNA (sequencing values)</th>\n",
       "      <th>RT/Cladea</th>\n",
       "      <th>Retron (sub)b</th>\n",
       "      <th>msr/msd familiyc</th>\n",
       "      <th>RT-DNA production</th>\n",
       "      <th>Bacterial Editing</th>\n",
       "      <th>Mammalian Editing Group</th>\n",
       "    </tr>\n",
       "  </thead>\n",
       "  <tbody>\n",
       "    <tr>\n",
       "      <th>0</th>\n",
       "      <td>62f01cb5959907d83045df37</td>\n",
       "      <td>1</td>\n",
       "      <td>GAGTAACAGTCGGTTAGCTTCCTTCATGGGCCAGTCATGGCGAGTT...</td>\n",
       "      <td>None</td>\n",
       "      <td>None</td>\n",
       "      <td>1</td>\n",
       "      <td>I-A</td>\n",
       "      <td>IA/IIA1</td>\n",
       "      <td>57</td>\n",
       "      <td>25</td>\n",
       "      <td>1</td>\n",
       "    </tr>\n",
       "  </tbody>\n",
       "</table>\n",
       "</div>"
      ],
      "text/plain": [
       "                        _id node  \\\n",
       "0  62f01cb5959907d83045df37    1   \n",
       "\n",
       "                                               ncRNA ensemble prediction  \\\n",
       "0  GAGTAACAGTCGGTTAGCTTCCTTCATGGGCCAGTCATGGCGAGTT...                None   \n",
       "\n",
       "  RTDNA (sequencing values) RT/Cladea Retron (sub)b msr/msd familiyc  \\\n",
       "0                      None         1           I-A          IA/IIA1   \n",
       "\n",
       "  RT-DNA production Bacterial Editing Mammalian Editing Group  \n",
       "0                57                25                       1  "
      ]
     },
     "execution_count": 3,
     "metadata": {},
     "output_type": "execute_result"
    }
   ],
   "source": [
    "# Simple node ID lookup. Only works for one node ID at a time.\n",
    "rdb.get_retron(dbr,\"1\")"
   ]
  },
  {
   "cell_type": "markdown",
   "id": "14d8682d",
   "metadata": {},
   "source": [
    "To retrieve multiple retrons by node ID, use this `set` syntax with comparison operators: \n",
    " * `$in` : in a list of values\n",
    " * `$nin` : not in a list of values\n",
    " * `$eq` : equal to a value\n",
    " * `$neq` : not equal to a value"
   ]
  },
  {
   "cell_type": "code",
   "execution_count": 8,
   "id": "96e694fb",
   "metadata": {},
   "outputs": [
    {
     "data": {
      "text/html": [
       "<div>\n",
       "<style scoped>\n",
       "    .dataframe tbody tr th:only-of-type {\n",
       "        vertical-align: middle;\n",
       "    }\n",
       "\n",
       "    .dataframe tbody tr th {\n",
       "        vertical-align: top;\n",
       "    }\n",
       "\n",
       "    .dataframe thead th {\n",
       "        text-align: right;\n",
       "    }\n",
       "</style>\n",
       "<table border=\"1\" class=\"dataframe\">\n",
       "  <thead>\n",
       "    <tr style=\"text-align: right;\">\n",
       "      <th></th>\n",
       "      <th>_id</th>\n",
       "      <th>node</th>\n",
       "      <th>ncRNA</th>\n",
       "      <th>ensemble prediction</th>\n",
       "      <th>RTDNA (sequencing values)</th>\n",
       "      <th>RT/Cladea</th>\n",
       "      <th>Retron (sub)b</th>\n",
       "      <th>msr/msd familiyc</th>\n",
       "      <th>RT-DNA production</th>\n",
       "      <th>Bacterial Editing</th>\n",
       "      <th>Mammalian Editing Group</th>\n",
       "    </tr>\n",
       "  </thead>\n",
       "  <tbody>\n",
       "    <tr>\n",
       "      <th>0</th>\n",
       "      <td>62f01cb5959907d83045df37</td>\n",
       "      <td>1</td>\n",
       "      <td>GAGTAACAGTCGGTTAGCTTCCTTCATGGGCCAGTCATGGCGAGTT...</td>\n",
       "      <td>None</td>\n",
       "      <td>None</td>\n",
       "      <td>1</td>\n",
       "      <td>I-A</td>\n",
       "      <td>IA/IIA1</td>\n",
       "      <td>57</td>\n",
       "      <td>25</td>\n",
       "      <td>1</td>\n",
       "    </tr>\n",
       "    <tr>\n",
       "      <th>1</th>\n",
       "      <td>62f01cb5959907d83045df38</td>\n",
       "      <td>28</td>\n",
       "      <td>TAGTTTGTCTTTTAGCGAATGAGGCATTTATGCCTAGTCGGGTGTT...</td>\n",
       "      <td>None</td>\n",
       "      <td>None</td>\n",
       "      <td>1</td>\n",
       "      <td>I-A</td>\n",
       "      <td>IA/IIA1</td>\n",
       "      <td>93</td>\n",
       "      <td>32</td>\n",
       "      <td>2</td>\n",
       "    </tr>\n",
       "    <tr>\n",
       "      <th>2</th>\n",
       "      <td>62f01cb5959907d83045df39</td>\n",
       "      <td>64</td>\n",
       "      <td>GCTCTTTAGCGTTTTATGGATTTACCACCTGATTGGTCAAATCTAG...</td>\n",
       "      <td>((((((((.........((((((((((......)))).)))))).(...</td>\n",
       "      <td>0.00003;0.00003;0.00003;0.00006;0.00006;0.0000...</td>\n",
       "      <td>None</td>\n",
       "      <td>None</td>\n",
       "      <td>None</td>\n",
       "      <td>26</td>\n",
       "      <td>78</td>\n",
       "      <td>2</td>\n",
       "    </tr>\n",
       "  </tbody>\n",
       "</table>\n",
       "</div>"
      ],
      "text/plain": [
       "                        _id node  \\\n",
       "0  62f01cb5959907d83045df37    1   \n",
       "1  62f01cb5959907d83045df38   28   \n",
       "2  62f01cb5959907d83045df39   64   \n",
       "\n",
       "                                               ncRNA  \\\n",
       "0  GAGTAACAGTCGGTTAGCTTCCTTCATGGGCCAGTCATGGCGAGTT...   \n",
       "1  TAGTTTGTCTTTTAGCGAATGAGGCATTTATGCCTAGTCGGGTGTT...   \n",
       "2  GCTCTTTAGCGTTTTATGGATTTACCACCTGATTGGTCAAATCTAG...   \n",
       "\n",
       "                                 ensemble prediction  \\\n",
       "0                                               None   \n",
       "1                                               None   \n",
       "2  ((((((((.........((((((((((......)))).)))))).(...   \n",
       "\n",
       "                           RTDNA (sequencing values) RT/Cladea Retron (sub)b  \\\n",
       "0                                               None         1           I-A   \n",
       "1                                               None         1           I-A   \n",
       "2  0.00003;0.00003;0.00003;0.00006;0.00006;0.0000...      None          None   \n",
       "\n",
       "  msr/msd familiyc RT-DNA production Bacterial Editing Mammalian Editing Group  \n",
       "0          IA/IIA1                57                25                       1  \n",
       "1          IA/IIA1                93                32                       2  \n",
       "2             None                26                78                       2  "
      ]
     },
     "execution_count": 8,
     "metadata": {},
     "output_type": "execute_result"
    }
   ],
   "source": [
    "node_list = [\"1\",\"28\",\"64\"]\n",
    "rdb.get_retrons_by(dbr, \"node\", {\"$in\":node_list})"
   ]
  },
  {
   "cell_type": "markdown",
   "id": "bb3c544c",
   "metadata": {},
   "source": [
    "### Query by any property\n",
    "Alternatively, you can the same syntax above to query on any property in the database."
   ]
  },
  {
   "cell_type": "code",
   "execution_count": 22,
   "id": "b2ed1ef7",
   "metadata": {},
   "outputs": [
    {
     "data": {
      "text/html": [
       "<div>\n",
       "<style scoped>\n",
       "    .dataframe tbody tr th:only-of-type {\n",
       "        vertical-align: middle;\n",
       "    }\n",
       "\n",
       "    .dataframe tbody tr th {\n",
       "        vertical-align: top;\n",
       "    }\n",
       "\n",
       "    .dataframe thead th {\n",
       "        text-align: right;\n",
       "    }\n",
       "</style>\n",
       "<table border=\"1\" class=\"dataframe\">\n",
       "  <thead>\n",
       "    <tr style=\"text-align: right;\">\n",
       "      <th></th>\n",
       "      <th>_id</th>\n",
       "      <th>node</th>\n",
       "      <th>ncRNA</th>\n",
       "      <th>ensemble prediction</th>\n",
       "      <th>RTDNA (sequencing values)</th>\n",
       "      <th>RT/Cladea</th>\n",
       "      <th>Retron (sub)b</th>\n",
       "      <th>msr/msd familiyc</th>\n",
       "      <th>RT-DNA production</th>\n",
       "      <th>Bacterial Editing</th>\n",
       "      <th>Mammalian Editing Group</th>\n",
       "    </tr>\n",
       "  </thead>\n",
       "  <tbody>\n",
       "    <tr>\n",
       "      <th>0</th>\n",
       "      <td>62f04db0959907d83045e0b6</td>\n",
       "      <td>1</td>\n",
       "      <td>AATAATCTTACGCGGATAGAAATGTAATTATCGGTTGTTAGGAGAT...</td>\n",
       "      <td>None</td>\n",
       "      <td>None</td>\n",
       "      <td>1</td>\n",
       "      <td>I-A</td>\n",
       "      <td>IA/IIA1</td>\n",
       "      <td>57</td>\n",
       "      <td>25</td>\n",
       "      <td>1</td>\n",
       "    </tr>\n",
       "    <tr>\n",
       "      <th>1</th>\n",
       "      <td>62f04db0959907d83045e0b7</td>\n",
       "      <td>28</td>\n",
       "      <td>ACATACGGGGCGGGAACGCGGAATTGGACAACGTTATTTGACGTAC...</td>\n",
       "      <td>None</td>\n",
       "      <td>None</td>\n",
       "      <td>1</td>\n",
       "      <td>I-A</td>\n",
       "      <td>IA/IIA1</td>\n",
       "      <td>93</td>\n",
       "      <td>32</td>\n",
       "      <td>2</td>\n",
       "    </tr>\n",
       "  </tbody>\n",
       "</table>\n",
       "</div>"
      ],
      "text/plain": [
       "                        _id node  \\\n",
       "0  62f04db0959907d83045e0b6    1   \n",
       "1  62f04db0959907d83045e0b7   28   \n",
       "\n",
       "                                               ncRNA ensemble prediction  \\\n",
       "0  AATAATCTTACGCGGATAGAAATGTAATTATCGGTTGTTAGGAGAT...                None   \n",
       "1  ACATACGGGGCGGGAACGCGGAATTGGACAACGTTATTTGACGTAC...                None   \n",
       "\n",
       "  RTDNA (sequencing values) RT/Cladea Retron (sub)b msr/msd familiyc  \\\n",
       "0                      None         1           I-A          IA/IIA1   \n",
       "1                      None         1           I-A          IA/IIA1   \n",
       "\n",
       "  RT-DNA production Bacterial Editing Mammalian Editing Group  \n",
       "0                57                25                       1  \n",
       "1                93                32                       2  "
      ]
     },
     "execution_count": 22,
     "metadata": {},
     "output_type": "execute_result"
    }
   ],
   "source": [
    "rdb.get_retrons_by(dbr, \"Retron (sub)b\", {\"$eq\":\"I-A\"})"
   ]
  },
  {
   "cell_type": "markdown",
   "id": "951836ba",
   "metadata": {},
   "source": [
    "### Format query results\n",
    "The default result is provides as pandas `DataFrame`. However, you can also specify `JSON` or `dict` or `raw` (for pymongo objects)."
   ]
  },
  {
   "cell_type": "code",
   "execution_count": 28,
   "id": "f7cf8dc6",
   "metadata": {},
   "outputs": [
    {
     "name": "stdout",
     "output_type": "stream",
     "text": [
      "Raw pymongo object: \n",
      "<pymongo.cursor.Cursor object at 0x7fc429a02700>\n",
      "\n",
      "JSON String: \n",
      "[{\"_id\": {\"$oid\": \"62f04db0959907d83045e0b6\"}, \"node\": \"1\", \"ncRNA\": \"AATAATCTTACGCGGATAGAAATGTAATTATCGGTTGTTAGGAGATACAAGATGCTTCACCAACTTGTTTGGAGTAAGTGCTGTATCACGAAGTGCGCCGATCGATGTAGTCGGAAAAGCATAGGAAGAGAACCGGATTTGTAAATTCTTTTTAGTCTGCCACCGAACGGGAATATCGCGAACTTCTACAGGACAATGCCTAGCACGCTCTTGGAGGTAAGGCTCACAAAGGCTGTGGTTCTGAGGGCGCGGAGTATACCGGGAAACTCTACCCGGCA\", \"ensemble prediction\": null, \"RTDNA (sequencing values)\": null, \"RT/Cladea\": \"1\", \"Retron (sub)b\": \"I-A\", \"msr/msd familiyc\": \"IA/IIA1\", \"RT-DNA production\": \"57\", \"Bacterial Editing\": \"25\", \"Mammalian Editing Group\": \"1\"}, {\"_id\": {\"$oid\": \"62f04db0959907d83045e0b7\"}, \"node\": \"28\", \"ncRNA\": \"ACATACGGGGCGGGAACGCGGAATTGGACAACGTTATTTGACGTACCCTGCAGGGGAATTGTTCTTATGGGTGTGTATCGCGGCCCCGAACGGATAACCCCCGGGTTGTAGGTTCATAGCAGCCAAACGGTGTTCCGGATGTCCCATACACTGCTA\", \"ensemble prediction\": null, \"RTDNA (sequencing values)\": null, \"RT/Cladea\": \"1\", \"Retron (sub)b\": \"I-A\", \"msr/msd familiyc\": \"IA/IIA1\", \"RT-DNA production\": \"93\", \"Bacterial Editing\": \"32\", \"Mammalian Editing Group\": \"2\"}]\n",
      "\n",
      "Python Dictionay: \n",
      "[{'_id': {'$oid': '62f04db0959907d83045e0b6'}, 'node': '1', 'ncRNA': 'AATAATCTTACGCGGATAGAAATGTAATTATCGGTTGTTAGGAGATACAAGATGCTTCACCAACTTGTTTGGAGTAAGTGCTGTATCACGAAGTGCGCCGATCGATGTAGTCGGAAAAGCATAGGAAGAGAACCGGATTTGTAAATTCTTTTTAGTCTGCCACCGAACGGGAATATCGCGAACTTCTACAGGACAATGCCTAGCACGCTCTTGGAGGTAAGGCTCACAAAGGCTGTGGTTCTGAGGGCGCGGAGTATACCGGGAAACTCTACCCGGCA', 'ensemble prediction': None, 'RTDNA (sequencing values)': None, 'RT/Cladea': '1', 'Retron (sub)b': 'I-A', 'msr/msd familiyc': 'IA/IIA1', 'RT-DNA production': '57', 'Bacterial Editing': '25', 'Mammalian Editing Group': '1'}, {'_id': {'$oid': '62f04db0959907d83045e0b7'}, 'node': '28', 'ncRNA': 'ACATACGGGGCGGGAACGCGGAATTGGACAACGTTATTTGACGTACCCTGCAGGGGAATTGTTCTTATGGGTGTGTATCGCGGCCCCGAACGGATAACCCCCGGGTTGTAGGTTCATAGCAGCCAAACGGTGTTCCGGATGTCCCATACACTGCTA', 'ensemble prediction': None, 'RTDNA (sequencing values)': None, 'RT/Cladea': '1', 'Retron (sub)b': 'I-A', 'msr/msd familiyc': 'IA/IIA1', 'RT-DNA production': '93', 'Bacterial Editing': '32', 'Mammalian Editing Group': '2'}]\n",
      "\n",
      "Pandas DataFrame: \n"
     ]
    },
    {
     "data": {
      "text/html": [
       "<div>\n",
       "<style scoped>\n",
       "    .dataframe tbody tr th:only-of-type {\n",
       "        vertical-align: middle;\n",
       "    }\n",
       "\n",
       "    .dataframe tbody tr th {\n",
       "        vertical-align: top;\n",
       "    }\n",
       "\n",
       "    .dataframe thead th {\n",
       "        text-align: right;\n",
       "    }\n",
       "</style>\n",
       "<table border=\"1\" class=\"dataframe\">\n",
       "  <thead>\n",
       "    <tr style=\"text-align: right;\">\n",
       "      <th></th>\n",
       "      <th>_id</th>\n",
       "      <th>node</th>\n",
       "      <th>ncRNA</th>\n",
       "      <th>ensemble prediction</th>\n",
       "      <th>RTDNA (sequencing values)</th>\n",
       "      <th>RT/Cladea</th>\n",
       "      <th>Retron (sub)b</th>\n",
       "      <th>msr/msd familiyc</th>\n",
       "      <th>RT-DNA production</th>\n",
       "      <th>Bacterial Editing</th>\n",
       "      <th>Mammalian Editing Group</th>\n",
       "    </tr>\n",
       "  </thead>\n",
       "  <tbody>\n",
       "    <tr>\n",
       "      <th>0</th>\n",
       "      <td>62f04db0959907d83045e0b6</td>\n",
       "      <td>1</td>\n",
       "      <td>AATAATCTTACGCGGATAGAAATGTAATTATCGGTTGTTAGGAGAT...</td>\n",
       "      <td>None</td>\n",
       "      <td>None</td>\n",
       "      <td>1</td>\n",
       "      <td>I-A</td>\n",
       "      <td>IA/IIA1</td>\n",
       "      <td>57</td>\n",
       "      <td>25</td>\n",
       "      <td>1</td>\n",
       "    </tr>\n",
       "    <tr>\n",
       "      <th>1</th>\n",
       "      <td>62f04db0959907d83045e0b7</td>\n",
       "      <td>28</td>\n",
       "      <td>ACATACGGGGCGGGAACGCGGAATTGGACAACGTTATTTGACGTAC...</td>\n",
       "      <td>None</td>\n",
       "      <td>None</td>\n",
       "      <td>1</td>\n",
       "      <td>I-A</td>\n",
       "      <td>IA/IIA1</td>\n",
       "      <td>93</td>\n",
       "      <td>32</td>\n",
       "      <td>2</td>\n",
       "    </tr>\n",
       "  </tbody>\n",
       "</table>\n",
       "</div>"
      ],
      "text/plain": [
       "                        _id node  \\\n",
       "0  62f04db0959907d83045e0b6    1   \n",
       "1  62f04db0959907d83045e0b7   28   \n",
       "\n",
       "                                               ncRNA ensemble prediction  \\\n",
       "0  AATAATCTTACGCGGATAGAAATGTAATTATCGGTTGTTAGGAGAT...                None   \n",
       "1  ACATACGGGGCGGGAACGCGGAATTGGACAACGTTATTTGACGTAC...                None   \n",
       "\n",
       "  RTDNA (sequencing values) RT/Cladea Retron (sub)b msr/msd familiyc  \\\n",
       "0                      None         1           I-A          IA/IIA1   \n",
       "1                      None         1           I-A          IA/IIA1   \n",
       "\n",
       "  RT-DNA production Bacterial Editing Mammalian Editing Group  \n",
       "0                57                25                       1  \n",
       "1                93                32                       2  "
      ]
     },
     "execution_count": 28,
     "metadata": {},
     "output_type": "execute_result"
    }
   ],
   "source": [
    "# Get a single retron by identifier as JSON, a dictionary or DataFrame\n",
    "ret_raw=rdb.get_retrons_by(dbr, \"Retron (sub)b\", {\"$eq\":\"I-A\"},\"raw\")\n",
    "ret_json=rdb.get_retrons_by(dbr, \"Retron (sub)b\", {\"$eq\":\"I-A\"},\"json\")\n",
    "ret_dict=rdb.get_retrons_by(dbr, \"Retron (sub)b\", {\"$eq\":\"I-A\"},\"dict\")\n",
    "ret_df=rdb.get_retrons_by(dbr, \"Retron (sub)b\", {\"$eq\":\"I-A\"})\n",
    "print(\"Raw pymongo object: \")\n",
    "print(ret_raw)\n",
    "print(\"\\nJSON String: \")\n",
    "print(ret_json)\n",
    "print(\"\\nPython Dictionay: \")\n",
    "print(ret_dict)\n",
    "print(\"\\nPandas DataFrame: \")\n",
    "ret_df"
   ]
  },
  {
   "cell_type": "code",
   "execution_count": null,
   "id": "8516166c",
   "metadata": {},
   "outputs": [],
   "source": []
  }
 ],
 "metadata": {
  "kernelspec": {
   "display_name": "Python 3 (ipykernel)",
   "language": "python",
   "name": "python3"
  },
  "language_info": {
   "codemirror_mode": {
    "name": "ipython",
    "version": 3
   },
   "file_extension": ".py",
   "mimetype": "text/x-python",
   "name": "python",
   "nbconvert_exporter": "python",
   "pygments_lexer": "ipython3",
   "version": "3.9.7"
  }
 },
 "nbformat": 4,
 "nbformat_minor": 5
}
