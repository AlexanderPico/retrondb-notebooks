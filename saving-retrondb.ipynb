{
 "cells": [
  {
   "cell_type": "markdown",
   "id": "c7f5e244",
   "metadata": {},
   "source": [
    "# Saving and restoring retronDB \n",
    "This is how you can save, export or backup the entire retron database to a CSV file, which can then be used to restore the complete database."
   ]
  },
  {
   "cell_type": "markdown",
   "id": "26d4ca6c",
   "metadata": {},
   "source": [
    "### Connecting to the database\n",
    "If you are not sure how to do this, review `getting-started.ipynb`."
   ]
  },
  {
   "cell_type": "code",
   "execution_count": null,
   "id": "776dd15c",
   "metadata": {},
   "outputs": [],
   "source": [
    "import retrondb as rdb\n",
    "dbr = rdb.connect_retronDB('sandbox') #this database is for demos and tutorials; it is not the actual database"
   ]
  },
  {
   "cell_type": "markdown",
   "id": "e691d228",
   "metadata": {},
   "source": [
    "### Save to CSV\n",
    "This function can be used in multiple ways:\n",
    " * Monthly backup\n",
    " * Tagged releases\n",
    " * Saving right before performing \"scary\" imports or updates"
   ]
  },
  {
   "cell_type": "code",
   "execution_count": null,
   "id": "9b58bbec",
   "metadata": {},
   "outputs": [],
   "source": [
    "rdb.save_retronDB(dbr, \"retrondb-20220819.csv\")"
   ]
  },
  {
   "cell_type": "markdown",
   "id": "0c4140f1",
   "metadata": {},
   "source": [
    "Note: The `.csv` extension is added automatically if you forget it. \n",
    "\n",
    "Also note: There is a `overwrite` parameter that is `False` by default to prevent you from accidentally overwriting a previously saved file."
   ]
  },
  {
   "cell_type": "markdown",
   "id": "3541601d",
   "metadata": {},
   "source": [
    "### Restoring from CSV\n",
    "This function will create a new database and populate it will the data in the specified CSV file. It will also establish an index on the `node` property to ensure uniqueness."
   ]
  },
  {
   "cell_type": "code",
   "execution_count": null,
   "id": "8e6829e1",
   "metadata": {},
   "outputs": [],
   "source": [
    "dbr2 = rdb.restore_retronDB(\"retrondb-20220819.csv\", \"sandbox2\")"
   ]
  },
  {
   "cell_type": "markdown",
   "id": "860426b5",
   "metadata": {},
   "source": [
    " Note: The function returns a pymongo.Collection object just like `connect_retronDB`"
   ]
  }
 ],
 "metadata": {
  "kernelspec": {
   "display_name": "Python 3 (ipykernel)",
   "language": "python",
   "name": "python3"
  },
  "language_info": {
   "codemirror_mode": {
    "name": "ipython",
    "version": 3
   },
   "file_extension": ".py",
   "mimetype": "text/x-python",
   "name": "python",
   "nbconvert_exporter": "python",
   "pygments_lexer": "ipython3",
   "version": "3.9.7"
  }
 },
 "nbformat": 4,
 "nbformat_minor": 5
}
